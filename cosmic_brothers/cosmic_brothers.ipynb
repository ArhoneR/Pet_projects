{
  "cells": [
    {
      "cell_type": "markdown",
      "metadata": {
        "id": "Ra8bVhakBXH2"
      },
      "source": [
        "# Анализ рекламных источников мобильной игры \"Космические братья\""
      ]
    },
    {
      "cell_type": "markdown",
      "metadata": {
        "id": "Zv15cWkQBXH2"
      },
      "source": [
        "## Описание проекта"
      ]
    },
    {
      "cell_type": "markdown",
      "metadata": {
        "id": "wkyOmwJdBXH3"
      },
      "source": [
        "В мобильной игре \"Космические братья\" провели тестовую закупку рекламы и сейчас необходимо оценить трафик, анализируя различия между каналами, предпочтительные стратегии пользователей, а также оценить затраты на различные каналы привлечения"
      ]
    },
    {
      "cell_type": "markdown",
      "metadata": {
        "id": "MeCQSDeoBXH3"
      },
      "source": [
        "## Цель проекта"
      ]
    },
    {
      "cell_type": "markdown",
      "metadata": {
        "id": "IKz67Jh9BXH3"
      },
      "source": [
        "Провести анализ источников перехода в игру для определения эффективности маркетинговых затрат."
      ]
    },
    {
      "cell_type": "markdown",
      "metadata": {
        "id": "Z8q0W_z5BXH3"
      },
      "source": [
        "## Описание данных"
      ]
    },
    {
      "cell_type": "markdown",
      "metadata": {
        "id": "Au_sJY4_BXH3"
      },
      "source": [
        "Основной датасет содержит данные о событиях, совершенных в мобильной игре «Космические братья». В ней пользователи строят свою космическую программу и пытаются преуспеть в нелёгком деле колонизации галактики.\n",
        "\n",
        "Основная монетизация игры — только планируется. Но предполагается, что в приложении будет происходить показ рекламы на экране с выбором типа объекта для постройки.\n",
        "\n",
        "В датасете представлены данные по игре пользователей на первом уровне. Завершение первого уровня требует от игрока выполнения одного из двух условий:\n",
        "\n",
        "Победа над первым врагом\n",
        "\n",
        "Реализация проекта - разработка орбитальной сборки спутников\n",
        "\n",
        "В датасете содержатся данные первых пользователей приложения — когорты пользователей, которые начали пользоваться приложением в период с 4 по 10 мая включительно."
      ]
    },
    {
      "cell_type": "markdown",
      "metadata": {
        "id": "YlPJ2as1BXH4"
      },
      "source": [
        "Датасет <code>game_actions.csv</code>\n",
        "<div>\n",
        "\n",
        "* <code>event_datetime</code> — время события;\n",
        "\n",
        "* <code>event</code> —  одно из трёх событий:\n",
        "    * <code>building</code> — объект построен,\n",
        "    * <code>finished_stage_1</code> — первый уровень завершён,\n",
        "    * <code>project</code> — проект завершён;\n",
        "\n",
        "* <code>building_type</code> — один из трёх типов здания:\n",
        "    * <code>assembly_shop </code> — сборочный цех,\n",
        "    * <code>spaceport </code> — космопорт,\n",
        "    * <code>research_center </code> — исследовательский центр;\n",
        "\n",
        "* <code>user_id</code> — идентификатор пользователя;\n",
        "    \n",
        "* <code>project_type</code> — тип реализованного проекта;    \n",
        "    \n",
        "</div>"
      ]
    },
    {
      "cell_type": "markdown",
      "metadata": {
        "id": "wXXOHL39BXH4"
      },
      "source": [
        "Датасет <code>ad_costs.csv</code>\n",
        "<div>\n",
        "\n",
        "* <code>day</code> —  день, в который был совершен клик по объявлению,\n",
        "\n",
        "* <code>source</code> —  источник трафика,\n",
        "    \n",
        "* <code>cost</code> — стоимость кликов;\n",
        "    \n",
        "</div>"
      ]
    },
    {
      "cell_type": "markdown",
      "metadata": {
        "id": "VWumnDftBXH4"
      },
      "source": [
        "Датасет <code>user_source.csv</code>\n",
        "<div>\n",
        "\n",
        "* <code>day</code> —  идентификатор пользователя,\n",
        "\n",
        "* <code>source</code> —  источников, с которого пришёл пользователь, установивший приложение;\n",
        "    \n",
        "</div>"
      ]
    },
    {
      "cell_type": "markdown",
      "metadata": {
        "id": "BYCVmiB4BXH5"
      },
      "source": [
        "## План работы"
      ]
    },
    {
      "cell_type": "markdown",
      "metadata": {
        "id": "exbtw6RqBXH5"
      },
      "source": [
        "<div>\n",
        "\n",
        "* <b>Часть 1. Изучение данных</b>\n",
        "    * Загрузка данных, получение общей информации о них;\n",
        "\n",
        "* <b>Часть 2. Предобработка данных</b>\n",
        "    * Проверить типы данных, откорректировать если нужно;\n",
        "    * Проверка данных на пропуски;\n",
        "    * Проверка данных на дубликаты;\n",
        "    \n",
        "* <b>Часть 3. Исследовательсктй анализ данных</b>\n",
        "    * Обзор источников перехода в игру;\n",
        "    * Формирование основных метрик для ранжирования каналов по \"эффективности\";\n",
        "    * Сравнение метрик по каналам (среднее количество зданий на игрока, доли прошедших уровень) для ранжирования каналов по эффективности;\n",
        "    * Сравнение долей стратегий для каналов с явным перекосом(при необходимости).\n",
        "    \n",
        "* <b>Часть 4. Проверка статистических гипотез</b>\n",
        "    * Время завершения уровня различается в\n",
        "зависимости способа прохождения;\n",
        "    * Способ завершения уровня отличается в зависимости от источника, через который пришел пользователь.\n",
        "    \n",
        "* <b>Часть 5. Ответ на вопрос заказчика. Подробное описание ранжирования каналов с аргументацией</b>    \n",
        "    \n",
        "* <b>Часть 6. Общий вывод</b>\n",
        "           \n",
        "    \n",
        "</div>"
      ]
    },
    {
      "cell_type": "markdown",
      "source": [
        "## Часть 1. Изучение данных"
      ],
      "metadata": {
        "id": "JaYl7FbkWpTt"
      }
    },
    {
      "cell_type": "code",
      "execution_count": null,
      "metadata": {
        "id": "ipgSRFIZBXH6"
      },
      "outputs": [],
      "source": [
        "# Необходимые библиотеки для исследования\n",
        "import pandas as pd\n",
        "from scipy import stats as st\n",
        "import numpy as np\n",
        "import seaborn as sns\n",
        "import matplotlib.pyplot as plt\n",
        "from plotly import graph_objects as go\n",
        "from datetime import datetime\n",
        "import warnings\n",
        "import os\n",
        "warnings.filterwarnings('ignore')"
      ]
    },
    {
      "cell_type": "code",
      "source": [
        "# Загрузка данных\n",
        "pth1 = '/datasets/ad_costs.csv'\n",
        "pth2 = 'ad_costs.csv'\n",
        "\n",
        "pth3 = '/datasets/game_actions.csv'\n",
        "pth4 = 'game_actions.csv'\n",
        "\n",
        "pth5 = '/datasets/user_source.csv'\n",
        "pth6 = 'user_source.csv'\n",
        "\n",
        "if os.path.exists(pth1):\n",
        "    ad_costs = pd.read_csv(pth1)\n",
        "elif os.path.exists(pth2):\n",
        "    ad_costs = pd.read_csv(pth2)\n",
        "\n",
        "if os.path.exists(pth3):\n",
        "    game_actions = pd.read_csv(pth3)\n",
        "elif os.path.exists(pth4):\n",
        "    game_actions = pd.read_csv(pth4)\n",
        "\n",
        "if os.path.exists(pth5):\n",
        "    user_source = pd.read_csv(pth5)\n",
        "elif os.path.exists(pth6):\n",
        "    user_source = pd.read_csv(pth6)\n",
        "\n",
        "\n",
        "else:\n",
        "    print('Что-то пошло не так')"
      ],
      "metadata": {
        "id": "G_vr4abUafmr"
      },
      "execution_count": null,
      "outputs": []
    },
    {
      "cell_type": "code",
      "source": [
        "# Функция для показа общей информации о датасете\n",
        "def dataset_info(dataset):\n",
        "    # Вывод первых 10 строк датасета\n",
        "    print(\"Первые 10 строк датасета:\")\n",
        "    print(dataset.head(10))\n",
        "\n",
        "    # Вывод типов данных и общей информации о датасете\n",
        "    print(\"\\nТипы данных и общая информация:\")\n",
        "    print(dataset.info())\n",
        "\n",
        "    # Вывод статистической информации о датасете\n",
        "    print(\"\\nСтатистическая информация:\")\n",
        "    print(dataset.describe())\n",
        "\n",
        "    # Подсчет количества пропусков в датасете\n",
        "    count=0\n",
        "    for element in dataset.columns:\n",
        "        if dataset[element].isna().sum() > 0:\n",
        "            print('\\n', element, '-', dataset[element].isna().sum(), 'пропусков')\n",
        "            count=+1\n",
        "    if count ==0:\n",
        "        print('\\nПропусков нет')\n",
        "\n",
        "    # Подсчет количества дубликатов в датасете\n",
        "    num_duplicates = dataset.duplicated().sum()\n",
        "    print(\"\\nКоличество дубликатов в датасете:\", num_duplicates)\n"
      ],
      "metadata": {
        "id": "6MoKhC_sBZb3"
      },
      "execution_count": null,
      "outputs": []
    },
    {
      "cell_type": "code",
      "source": [
        "dataset_info(ad_costs)l"
      ],
      "metadata": {
        "colab": {
          "base_uri": "https://localhost:8080/"
        },
        "id": "mht9Wi6EBZZh",
        "outputId": "41b633fe-1c7b-4afb-9c7b-793d9ec97358"
      },
      "execution_count": null,
      "outputs": [
        {
          "output_type": "stream",
          "name": "stdout",
          "text": [
            "Первые 10 строк датасета:\n",
            "                  source         day        cost\n",
            "0           facebook_ads  2020-05-03  935.882786\n",
            "1           facebook_ads  2020-05-04  548.354480\n",
            "2           facebook_ads  2020-05-05  260.185754\n",
            "3           facebook_ads  2020-05-06  177.982200\n",
            "4           facebook_ads  2020-05-07  111.766796\n",
            "5           facebook_ads  2020-05-08   68.009276\n",
            "6           facebook_ads  2020-05-09   38.723350\n",
            "7  instagram_new_adverts  2020-05-03  943.204717\n",
            "8  instagram_new_adverts  2020-05-04  502.925451\n",
            "9  instagram_new_adverts  2020-05-05  313.970984\n",
            "\n",
            "Типы данных и общая информация:\n",
            "<class 'pandas.core.frame.DataFrame'>\n",
            "RangeIndex: 28 entries, 0 to 27\n",
            "Data columns (total 3 columns):\n",
            " #   Column  Non-Null Count  Dtype  \n",
            "---  ------  --------------  -----  \n",
            " 0   source  28 non-null     object \n",
            " 1   day     28 non-null     object \n",
            " 2   cost    28 non-null     float64\n",
            "dtypes: float64(1), object(2)\n",
            "memory usage: 800.0+ bytes\n",
            "None\n",
            "\n",
            "Статистическая информация:\n",
            "             cost\n",
            "count   28.000000\n",
            "mean   271.556321\n",
            "std    286.867650\n",
            "min     23.314669\n",
            "25%     66.747365\n",
            "50%    160.056443\n",
            "75%    349.034473\n",
            "max    969.139394\n",
            "\n",
            "Пропусков нет\n",
            "\n",
            "Количество дубликатов в датасете: 0\n"
          ]
        }
      ]
    },
    {
      "cell_type": "markdown",
      "source": [
        "В датасете ad_costs 28 строк и 3 столбца, пропуски и дубликаты отсутствуют."
      ],
      "metadata": {
        "id": "vlXZKkwjeeiB"
      }
    },
    {
      "cell_type": "markdown",
      "source": [
        "Затраты на различные источники имеют значительное разнообразие, от 23.31 у.е. до 969.14 у.е. В среднем, каждый день затраты на один источник составляют 271.56 у.е. Типичная стоимость одного источника составляет примерно 160.06 у.е."
      ],
      "metadata": {
        "id": "q8-OnR3WeFTc"
      }
    },
    {
      "cell_type": "code",
      "source": [
        "dataset_info(game_actions)"
      ],
      "metadata": {
        "colab": {
          "base_uri": "https://localhost:8080/"
        },
        "id": "qAPCE6jiBZXQ",
        "outputId": "cbad844b-6837-428b-e315-4ca01dc85a56"
      },
      "execution_count": null,
      "outputs": [
        {
          "output_type": "stream",
          "name": "stdout",
          "text": [
            "Первые 10 строк датасета:\n",
            "        event_datetime     event  building_type  \\\n",
            "0  2020-05-04 00:00:01  building  assembly_shop   \n",
            "1  2020-05-04 00:00:03  building  assembly_shop   \n",
            "2  2020-05-04 00:00:16  building  assembly_shop   \n",
            "3  2020-05-04 00:00:16  building  assembly_shop   \n",
            "4  2020-05-04 00:00:35  building  assembly_shop   \n",
            "5  2020-05-04 00:00:36  building  assembly_shop   \n",
            "6  2020-05-04 00:00:36  building  assembly_shop   \n",
            "7  2020-05-04 00:00:38  building  assembly_shop   \n",
            "8  2020-05-04 00:00:44  building  assembly_shop   \n",
            "9  2020-05-04 00:01:33  building  assembly_shop   \n",
            "\n",
            "                                user_id project_type  \n",
            "0  55e92310-cb8e-4754-b622-597e124b03de          NaN  \n",
            "1  c07b1c10-f477-44dc-81dc-ec82254b1347          NaN  \n",
            "2  6edd42cc-e753-4ff6-a947-2107cd560710          NaN  \n",
            "3  92c69003-d60a-444a-827f-8cc51bf6bf4c          NaN  \n",
            "4  cdc6bb92-0ccb-4490-9866-ef142f09139d          NaN  \n",
            "5  06c592ca-902d-42bb-bac3-75ce84cca159          NaN  \n",
            "6  4fe0f101-694b-4e31-9740-d1d87f7208ea          NaN  \n",
            "7  beb8ca15-33a9-465d-b47b-89aa96f89c9a          NaN  \n",
            "8  65a92713-5969-48b1-8945-bfefa5063887          NaN  \n",
            "9  fa352362-d258-472c-b295-2796ccc39fa3          NaN  \n",
            "\n",
            "Типы данных и общая информация:\n",
            "<class 'pandas.core.frame.DataFrame'>\n",
            "RangeIndex: 135640 entries, 0 to 135639\n",
            "Data columns (total 5 columns):\n",
            " #   Column          Non-Null Count   Dtype \n",
            "---  ------          --------------   ----- \n",
            " 0   event_datetime  135640 non-null  object\n",
            " 1   event           135640 non-null  object\n",
            " 2   building_type   127957 non-null  object\n",
            " 3   user_id         135640 non-null  object\n",
            " 4   project_type    1866 non-null    object\n",
            "dtypes: object(5)\n",
            "memory usage: 5.2+ MB\n",
            "None\n",
            "\n",
            "Статистическая информация:\n",
            "             event_datetime     event building_type  \\\n",
            "count                135640    135640        127957   \n",
            "unique               128790         3             3   \n",
            "top     2020-05-09 12:35:56  building     spaceport   \n",
            "freq                      4    127957         59325   \n",
            "\n",
            "                                     user_id                project_type  \n",
            "count                                 135640                        1866  \n",
            "unique                                 13576                           1  \n",
            "top     bf542075-e3a2-4e79-82d8-3838e86d2a25  satellite_orbital_assembly  \n",
            "freq                                      22                        1866  \n",
            "\n",
            " building_type - 7683 пропусков\n",
            "\n",
            " project_type - 133774 пропусков\n",
            "\n",
            "Количество дубликатов в датасете: 1\n"
          ]
        }
      ]
    },
    {
      "cell_type": "markdown",
      "source": [
        "В датасете game_actions 135640 строк, 5 столбцов. Есть пропуски - в столбцах building_type (7683) и project_type (133774). Эти пропуски означают отсутствие события с данным типом, поэтому их не трогаем. Есть одна строка с дубликатом. Столбец event_datetime стоит перевести в тип данных datetime."
      ],
      "metadata": {
        "id": "qKYPlvKvgbPG"
      }
    },
    {
      "cell_type": "markdown",
      "source": [
        "Самым распространенным событием является \"постройка\" (building).\n",
        "\n",
        "Среди различных типов построек, наиболее часто встречается \"космопорт\" (spaceport).\n",
        "\n",
        "В проекте участвуют 13,576 уникальных игроков, с максимальным количеством событий на первом уровне равным 22.\n",
        "\n",
        "Единственным типом проекта является \"орбитальная сборка спутников\" (satellite_orbital_assembly), которая была реализована всего лишь 1866 раз."
      ],
      "metadata": {
        "id": "8Aqdmossg7b4"
      }
    },
    {
      "cell_type": "code",
      "source": [
        "dataset_info(user_source)"
      ],
      "metadata": {
        "colab": {
          "base_uri": "https://localhost:8080/"
        },
        "id": "_cfGDWRIBZU1",
        "outputId": "5554f79e-889b-4cfa-e3ba-52ff9788e93d"
      },
      "execution_count": null,
      "outputs": [
        {
          "output_type": "stream",
          "name": "stdout",
          "text": [
            "Первые 10 строк датасета:\n",
            "                                user_id                   source\n",
            "0  0001f83c-c6ac-4621-b7f0-8a28b283ac30             facebook_ads\n",
            "1  00151b4f-ba38-44a8-a650-d7cf130a0105            yandex_direct\n",
            "2  001aaea6-3d14-43f1-8ca8-7f48820f17aa  youtube_channel_reklama\n",
            "3  001d39dc-366c-4021-9604-6a3b9ff01e25    instagram_new_adverts\n",
            "4  002f508f-67b6-479f-814b-b05f00d4e995             facebook_ads\n",
            "5  003b80c6-4164-4157-bb2a-03d0181d39c4            yandex_direct\n",
            "6  003ee7e8-6356-4286-a715-62f22a18d2a1    instagram_new_adverts\n",
            "7  004074f8-251a-4776-922c-8348dca1a2f6             facebook_ads\n",
            "8  00440efd-aa50-4b4b-aae8-ffcd1782729d             facebook_ads\n",
            "9  00464e5e-28ed-4be6-bf44-517ef7b3937b            yandex_direct\n",
            "\n",
            "Типы данных и общая информация:\n",
            "<class 'pandas.core.frame.DataFrame'>\n",
            "RangeIndex: 13576 entries, 0 to 13575\n",
            "Data columns (total 2 columns):\n",
            " #   Column   Non-Null Count  Dtype \n",
            "---  ------   --------------  ----- \n",
            " 0   user_id  13576 non-null  object\n",
            " 1   source   13576 non-null  object\n",
            "dtypes: object(2)\n",
            "memory usage: 212.2+ KB\n",
            "None\n",
            "\n",
            "Статистическая информация:\n",
            "                                     user_id         source\n",
            "count                                  13576          13576\n",
            "unique                                 13576              4\n",
            "top     0001f83c-c6ac-4621-b7f0-8a28b283ac30  yandex_direct\n",
            "freq                                       1           4817\n",
            "\n",
            "Пропусков нет\n",
            "\n",
            "Количество дубликатов в датасете: 0\n"
          ]
        }
      ]
    },
    {
      "cell_type": "markdown",
      "source": [
        "В датасете user_source 13576 строк, 2 столбца. Пропусков и дубликатов нет. Уникальных игроков -  13576; уникальных каналов - 4, самый популярный - yandex_direct (4817 игроков)"
      ],
      "metadata": {
        "id": "XO-YQ1bwh10o"
      }
    },
    {
      "cell_type": "markdown",
      "source": [],
      "metadata": {
        "id": "DG-IVznhh1x6"
      }
    },
    {
      "cell_type": "markdown",
      "source": [
        "## Часть 2. Предобработка данных"
      ],
      "metadata": {
        "id": "Y3ggVc4NwUGb"
      }
    },
    {
      "cell_type": "code",
      "source": [
        "#удалим дубликат\n",
        "game_actions = game_actions.drop_duplicates()"
      ],
      "metadata": {
        "id": "4N2oabVCBZSe"
      },
      "execution_count": null,
      "outputs": []
    },
    {
      "cell_type": "code",
      "source": [
        "#поменяем тип данных\n",
        "game_actions['event_datetime'] = pd.to_datetime(game_actions['event_datetime'])"
      ],
      "metadata": {
        "id": "pmQZGuhNBZPe"
      },
      "execution_count": null,
      "outputs": []
    },
    {
      "cell_type": "code",
      "source": [
        "game_actions.info()"
      ],
      "metadata": {
        "id": "uSQZ5cevBZNM",
        "colab": {
          "base_uri": "https://localhost:8080/"
        },
        "outputId": "2ae86c34-b243-4c59-e43a-83b64bf4b455"
      },
      "execution_count": null,
      "outputs": [
        {
          "output_type": "stream",
          "name": "stdout",
          "text": [
            "<class 'pandas.core.frame.DataFrame'>\n",
            "Int64Index: 135639 entries, 0 to 135639\n",
            "Data columns (total 5 columns):\n",
            " #   Column          Non-Null Count   Dtype         \n",
            "---  ------          --------------   -----         \n",
            " 0   event_datetime  135639 non-null  datetime64[ns]\n",
            " 1   event           135639 non-null  object        \n",
            " 2   building_type   127956 non-null  object        \n",
            " 3   user_id         135639 non-null  object        \n",
            " 4   project_type    1866 non-null    object        \n",
            "dtypes: datetime64[ns](1), object(4)\n",
            "memory usage: 6.2+ MB\n"
          ]
        }
      ]
    },
    {
      "cell_type": "markdown",
      "source": [
        "Проверим данные в game_actions на ошибки в записи. Если у нас тип события - постройка, то в столбце building_type не должно быть пустого значения"
      ],
      "metadata": {
        "id": "Nk2S0b-46_iC"
      }
    },
    {
      "cell_type": "code",
      "source": [
        "game_actions[game_actions['event'] == 'building']['building_type'].unique()"
      ],
      "metadata": {
        "id": "MQS1NCZ0BZIW",
        "colab": {
          "base_uri": "https://localhost:8080/"
        },
        "outputId": "a27f7864-12d7-4c48-d941-b8f06862052d"
      },
      "execution_count": null,
      "outputs": [
        {
          "output_type": "execute_result",
          "data": {
            "text/plain": [
              "array(['assembly_shop', 'spaceport', 'research_center'], dtype=object)"
            ]
          },
          "metadata": {},
          "execution_count": 10
        }
      ]
    },
    {
      "cell_type": "markdown",
      "source": [
        "Также проверим событие project. В этом случае у нас не должно быть пустого значения в столбце project_type."
      ],
      "metadata": {
        "id": "rZldtBy4-asl"
      }
    },
    {
      "cell_type": "code",
      "source": [
        "game_actions[game_actions['event'] == 'project']['project_type'].unique()"
      ],
      "metadata": {
        "id": "G2W5gYQHBZFy",
        "colab": {
          "base_uri": "https://localhost:8080/"
        },
        "outputId": "6d58646d-438b-4586-f776-f039781cd700"
      },
      "execution_count": null,
      "outputs": [
        {
          "output_type": "execute_result",
          "data": {
            "text/plain": [
              "array(['satellite_orbital_assembly'], dtype=object)"
            ]
          },
          "metadata": {},
          "execution_count": 11
        }
      ]
    },
    {
      "cell_type": "markdown",
      "source": [
        "Данные не содержат ошибок в записи. Был удален дубликат, изменен тип данных в столбце event_datetime на datetime. Можно переходить к ииследовательскому анализу данных."
      ],
      "metadata": {
        "id": "UBzz_ecM-0WV"
      }
    },
    {
      "cell_type": "markdown",
      "source": [
        "## Часть 3. Исследовательский анализ данных"
      ],
      "metadata": {
        "id": "Soz5Xq4j_aSx"
      }
    },
    {
      "cell_type": "markdown",
      "source": [
        "### Обзор источников перехода в игру"
      ],
      "metadata": {
        "id": "HjgFTosaD7Fw"
      }
    },
    {
      "cell_type": "markdown",
      "source": [
        "\n",
        "Посмотрим на количество переходов по источникам трафика и их процентное соотношение"
      ],
      "metadata": {
        "id": "CQdUEbqREFX_"
      }
    },
    {
      "cell_type": "code",
      "source": [
        "fig = go.Figure(data=[go.Bar(x = user_source['source'].value_counts().index,\n",
        "                             y = user_source['source'].value_counts().values,\n",
        "                             text= user_source['source'].value_counts(),\n",
        "                             textposition = 'outside',\n",
        "                             )])\n",
        "fig.update_layout(title_text='Количество переходов по источникам трафика', xaxis_title='Источник трафика', yaxis_title='Количество пользователей, шт.')\n",
        "fig.show()"
      ],
      "metadata": {
        "id": "MV7QPG6xBZA2",
        "colab": {
          "base_uri": "https://localhost:8080/",
          "height": 542
        },
        "outputId": "5490080c-c0ab-43d5-828b-619c5c2add64"
      },
      "execution_count": null,
      "outputs": [
        {
          "output_type": "display_data",
          "data": {
            "text/html": [
              "<html>\n",
              "<head><meta charset=\"utf-8\" /></head>\n",
              "<body>\n",
              "    <div>            <script src=\"https://cdnjs.cloudflare.com/ajax/libs/mathjax/2.7.5/MathJax.js?config=TeX-AMS-MML_SVG\"></script><script type=\"text/javascript\">if (window.MathJax && window.MathJax.Hub && window.MathJax.Hub.Config) {window.MathJax.Hub.Config({SVG: {font: \"STIX-Web\"}});}</script>                <script type=\"text/javascript\">window.PlotlyConfig = {MathJaxConfig: 'local'};</script>\n",
              "        <script src=\"https://cdn.plot.ly/plotly-2.18.2.min.js\"></script>                <div id=\"707fea80-f3cd-4a4c-9d68-e8ed90a1f962\" class=\"plotly-graph-div\" style=\"height:525px; width:100%;\"></div>            <script type=\"text/javascript\">                                    window.PLOTLYENV=window.PLOTLYENV || {};                                    if (document.getElementById(\"707fea80-f3cd-4a4c-9d68-e8ed90a1f962\")) {                    Plotly.newPlot(                        \"707fea80-f3cd-4a4c-9d68-e8ed90a1f962\",                        [{\"text\":[4817.0,3347.0,2726.0,2686.0],\"textposition\":\"outside\",\"x\":[\"yandex_direct\",\"instagram_new_adverts\",\"facebook_ads\",\"youtube_channel_reklama\"],\"y\":[4817,3347,2726,2686],\"type\":\"bar\"}],                        {\"template\":{\"data\":{\"histogram2dcontour\":[{\"type\":\"histogram2dcontour\",\"colorbar\":{\"outlinewidth\":0,\"ticks\":\"\"},\"colorscale\":[[0.0,\"#0d0887\"],[0.1111111111111111,\"#46039f\"],[0.2222222222222222,\"#7201a8\"],[0.3333333333333333,\"#9c179e\"],[0.4444444444444444,\"#bd3786\"],[0.5555555555555556,\"#d8576b\"],[0.6666666666666666,\"#ed7953\"],[0.7777777777777778,\"#fb9f3a\"],[0.8888888888888888,\"#fdca26\"],[1.0,\"#f0f921\"]]}],\"choropleth\":[{\"type\":\"choropleth\",\"colorbar\":{\"outlinewidth\":0,\"ticks\":\"\"}}],\"histogram2d\":[{\"type\":\"histogram2d\",\"colorbar\":{\"outlinewidth\":0,\"ticks\":\"\"},\"colorscale\":[[0.0,\"#0d0887\"],[0.1111111111111111,\"#46039f\"],[0.2222222222222222,\"#7201a8\"],[0.3333333333333333,\"#9c179e\"],[0.4444444444444444,\"#bd3786\"],[0.5555555555555556,\"#d8576b\"],[0.6666666666666666,\"#ed7953\"],[0.7777777777777778,\"#fb9f3a\"],[0.8888888888888888,\"#fdca26\"],[1.0,\"#f0f921\"]]}],\"heatmap\":[{\"type\":\"heatmap\",\"colorbar\":{\"outlinewidth\":0,\"ticks\":\"\"},\"colorscale\":[[0.0,\"#0d0887\"],[0.1111111111111111,\"#46039f\"],[0.2222222222222222,\"#7201a8\"],[0.3333333333333333,\"#9c179e\"],[0.4444444444444444,\"#bd3786\"],[0.5555555555555556,\"#d8576b\"],[0.6666666666666666,\"#ed7953\"],[0.7777777777777778,\"#fb9f3a\"],[0.8888888888888888,\"#fdca26\"],[1.0,\"#f0f921\"]]}],\"heatmapgl\":[{\"type\":\"heatmapgl\",\"colorbar\":{\"outlinewidth\":0,\"ticks\":\"\"},\"colorscale\":[[0.0,\"#0d0887\"],[0.1111111111111111,\"#46039f\"],[0.2222222222222222,\"#7201a8\"],[0.3333333333333333,\"#9c179e\"],[0.4444444444444444,\"#bd3786\"],[0.5555555555555556,\"#d8576b\"],[0.6666666666666666,\"#ed7953\"],[0.7777777777777778,\"#fb9f3a\"],[0.8888888888888888,\"#fdca26\"],[1.0,\"#f0f921\"]]}],\"contourcarpet\":[{\"type\":\"contourcarpet\",\"colorbar\":{\"outlinewidth\":0,\"ticks\":\"\"}}],\"contour\":[{\"type\":\"contour\",\"colorbar\":{\"outlinewidth\":0,\"ticks\":\"\"},\"colorscale\":[[0.0,\"#0d0887\"],[0.1111111111111111,\"#46039f\"],[0.2222222222222222,\"#7201a8\"],[0.3333333333333333,\"#9c179e\"],[0.4444444444444444,\"#bd3786\"],[0.5555555555555556,\"#d8576b\"],[0.6666666666666666,\"#ed7953\"],[0.7777777777777778,\"#fb9f3a\"],[0.8888888888888888,\"#fdca26\"],[1.0,\"#f0f921\"]]}],\"surface\":[{\"type\":\"surface\",\"colorbar\":{\"outlinewidth\":0,\"ticks\":\"\"},\"colorscale\":[[0.0,\"#0d0887\"],[0.1111111111111111,\"#46039f\"],[0.2222222222222222,\"#7201a8\"],[0.3333333333333333,\"#9c179e\"],[0.4444444444444444,\"#bd3786\"],[0.5555555555555556,\"#d8576b\"],[0.6666666666666666,\"#ed7953\"],[0.7777777777777778,\"#fb9f3a\"],[0.8888888888888888,\"#fdca26\"],[1.0,\"#f0f921\"]]}],\"mesh3d\":[{\"type\":\"mesh3d\",\"colorbar\":{\"outlinewidth\":0,\"ticks\":\"\"}}],\"scatter\":[{\"fillpattern\":{\"fillmode\":\"overlay\",\"size\":10,\"solidity\":0.2},\"type\":\"scatter\"}],\"parcoords\":[{\"type\":\"parcoords\",\"line\":{\"colorbar\":{\"outlinewidth\":0,\"ticks\":\"\"}}}],\"scatterpolargl\":[{\"type\":\"scatterpolargl\",\"marker\":{\"colorbar\":{\"outlinewidth\":0,\"ticks\":\"\"}}}],\"bar\":[{\"error_x\":{\"color\":\"#2a3f5f\"},\"error_y\":{\"color\":\"#2a3f5f\"},\"marker\":{\"line\":{\"color\":\"#E5ECF6\",\"width\":0.5},\"pattern\":{\"fillmode\":\"overlay\",\"size\":10,\"solidity\":0.2}},\"type\":\"bar\"}],\"scattergeo\":[{\"type\":\"scattergeo\",\"marker\":{\"colorbar\":{\"outlinewidth\":0,\"ticks\":\"\"}}}],\"scatterpolar\":[{\"type\":\"scatterpolar\",\"marker\":{\"colorbar\":{\"outlinewidth\":0,\"ticks\":\"\"}}}],\"histogram\":[{\"marker\":{\"pattern\":{\"fillmode\":\"overlay\",\"size\":10,\"solidity\":0.2}},\"type\":\"histogram\"}],\"scattergl\":[{\"type\":\"scattergl\",\"marker\":{\"colorbar\":{\"outlinewidth\":0,\"ticks\":\"\"}}}],\"scatter3d\":[{\"type\":\"scatter3d\",\"line\":{\"colorbar\":{\"outlinewidth\":0,\"ticks\":\"\"}},\"marker\":{\"colorbar\":{\"outlinewidth\":0,\"ticks\":\"\"}}}],\"scattermapbox\":[{\"type\":\"scattermapbox\",\"marker\":{\"colorbar\":{\"outlinewidth\":0,\"ticks\":\"\"}}}],\"scatterternary\":[{\"type\":\"scatterternary\",\"marker\":{\"colorbar\":{\"outlinewidth\":0,\"ticks\":\"\"}}}],\"scattercarpet\":[{\"type\":\"scattercarpet\",\"marker\":{\"colorbar\":{\"outlinewidth\":0,\"ticks\":\"\"}}}],\"carpet\":[{\"aaxis\":{\"endlinecolor\":\"#2a3f5f\",\"gridcolor\":\"white\",\"linecolor\":\"white\",\"minorgridcolor\":\"white\",\"startlinecolor\":\"#2a3f5f\"},\"baxis\":{\"endlinecolor\":\"#2a3f5f\",\"gridcolor\":\"white\",\"linecolor\":\"white\",\"minorgridcolor\":\"white\",\"startlinecolor\":\"#2a3f5f\"},\"type\":\"carpet\"}],\"table\":[{\"cells\":{\"fill\":{\"color\":\"#EBF0F8\"},\"line\":{\"color\":\"white\"}},\"header\":{\"fill\":{\"color\":\"#C8D4E3\"},\"line\":{\"color\":\"white\"}},\"type\":\"table\"}],\"barpolar\":[{\"marker\":{\"line\":{\"color\":\"#E5ECF6\",\"width\":0.5},\"pattern\":{\"fillmode\":\"overlay\",\"size\":10,\"solidity\":0.2}},\"type\":\"barpolar\"}],\"pie\":[{\"automargin\":true,\"type\":\"pie\"}]},\"layout\":{\"autotypenumbers\":\"strict\",\"colorway\":[\"#636efa\",\"#EF553B\",\"#00cc96\",\"#ab63fa\",\"#FFA15A\",\"#19d3f3\",\"#FF6692\",\"#B6E880\",\"#FF97FF\",\"#FECB52\"],\"font\":{\"color\":\"#2a3f5f\"},\"hovermode\":\"closest\",\"hoverlabel\":{\"align\":\"left\"},\"paper_bgcolor\":\"white\",\"plot_bgcolor\":\"#E5ECF6\",\"polar\":{\"bgcolor\":\"#E5ECF6\",\"angularaxis\":{\"gridcolor\":\"white\",\"linecolor\":\"white\",\"ticks\":\"\"},\"radialaxis\":{\"gridcolor\":\"white\",\"linecolor\":\"white\",\"ticks\":\"\"}},\"ternary\":{\"bgcolor\":\"#E5ECF6\",\"aaxis\":{\"gridcolor\":\"white\",\"linecolor\":\"white\",\"ticks\":\"\"},\"baxis\":{\"gridcolor\":\"white\",\"linecolor\":\"white\",\"ticks\":\"\"},\"caxis\":{\"gridcolor\":\"white\",\"linecolor\":\"white\",\"ticks\":\"\"}},\"coloraxis\":{\"colorbar\":{\"outlinewidth\":0,\"ticks\":\"\"}},\"colorscale\":{\"sequential\":[[0.0,\"#0d0887\"],[0.1111111111111111,\"#46039f\"],[0.2222222222222222,\"#7201a8\"],[0.3333333333333333,\"#9c179e\"],[0.4444444444444444,\"#bd3786\"],[0.5555555555555556,\"#d8576b\"],[0.6666666666666666,\"#ed7953\"],[0.7777777777777778,\"#fb9f3a\"],[0.8888888888888888,\"#fdca26\"],[1.0,\"#f0f921\"]],\"sequentialminus\":[[0.0,\"#0d0887\"],[0.1111111111111111,\"#46039f\"],[0.2222222222222222,\"#7201a8\"],[0.3333333333333333,\"#9c179e\"],[0.4444444444444444,\"#bd3786\"],[0.5555555555555556,\"#d8576b\"],[0.6666666666666666,\"#ed7953\"],[0.7777777777777778,\"#fb9f3a\"],[0.8888888888888888,\"#fdca26\"],[1.0,\"#f0f921\"]],\"diverging\":[[0,\"#8e0152\"],[0.1,\"#c51b7d\"],[0.2,\"#de77ae\"],[0.3,\"#f1b6da\"],[0.4,\"#fde0ef\"],[0.5,\"#f7f7f7\"],[0.6,\"#e6f5d0\"],[0.7,\"#b8e186\"],[0.8,\"#7fbc41\"],[0.9,\"#4d9221\"],[1,\"#276419\"]]},\"xaxis\":{\"gridcolor\":\"white\",\"linecolor\":\"white\",\"ticks\":\"\",\"title\":{\"standoff\":15},\"zerolinecolor\":\"white\",\"automargin\":true,\"zerolinewidth\":2},\"yaxis\":{\"gridcolor\":\"white\",\"linecolor\":\"white\",\"ticks\":\"\",\"title\":{\"standoff\":15},\"zerolinecolor\":\"white\",\"automargin\":true,\"zerolinewidth\":2},\"scene\":{\"xaxis\":{\"backgroundcolor\":\"#E5ECF6\",\"gridcolor\":\"white\",\"linecolor\":\"white\",\"showbackground\":true,\"ticks\":\"\",\"zerolinecolor\":\"white\",\"gridwidth\":2},\"yaxis\":{\"backgroundcolor\":\"#E5ECF6\",\"gridcolor\":\"white\",\"linecolor\":\"white\",\"showbackground\":true,\"ticks\":\"\",\"zerolinecolor\":\"white\",\"gridwidth\":2},\"zaxis\":{\"backgroundcolor\":\"#E5ECF6\",\"gridcolor\":\"white\",\"linecolor\":\"white\",\"showbackground\":true,\"ticks\":\"\",\"zerolinecolor\":\"white\",\"gridwidth\":2}},\"shapedefaults\":{\"line\":{\"color\":\"#2a3f5f\"}},\"annotationdefaults\":{\"arrowcolor\":\"#2a3f5f\",\"arrowhead\":0,\"arrowwidth\":1},\"geo\":{\"bgcolor\":\"white\",\"landcolor\":\"#E5ECF6\",\"subunitcolor\":\"white\",\"showland\":true,\"showlakes\":true,\"lakecolor\":\"white\"},\"title\":{\"x\":0.05},\"mapbox\":{\"style\":\"light\"}}},\"title\":{\"text\":\"\\u041a\\u043e\\u043b\\u0438\\u0447\\u0435\\u0441\\u0442\\u0432\\u043e \\u043f\\u0435\\u0440\\u0435\\u0445\\u043e\\u0434\\u043e\\u0432 \\u043f\\u043e \\u0438\\u0441\\u0442\\u043e\\u0447\\u043d\\u0438\\u043a\\u0430\\u043c \\u0442\\u0440\\u0430\\u0444\\u0438\\u043a\\u0430\"},\"xaxis\":{\"title\":{\"text\":\"\\u0418\\u0441\\u0442\\u043e\\u0447\\u043d\\u0438\\u043a \\u0442\\u0440\\u0430\\u0444\\u0438\\u043a\\u0430\"}},\"yaxis\":{\"title\":{\"text\":\"\\u041a\\u043e\\u043b\\u0438\\u0447\\u0435\\u0441\\u0442\\u0432\\u043e \\u043f\\u043e\\u043b\\u044c\\u0437\\u043e\\u0432\\u0430\\u0442\\u0435\\u043b\\u0435\\u0439, \\u0448\\u0442.\"}}},                        {\"responsive\": true}                    ).then(function(){\n",
              "                            \n",
              "var gd = document.getElementById('707fea80-f3cd-4a4c-9d68-e8ed90a1f962');\n",
              "var x = new MutationObserver(function (mutations, observer) {{\n",
              "        var display = window.getComputedStyle(gd).display;\n",
              "        if (!display || display === 'none') {{\n",
              "            console.log([gd, 'removed!']);\n",
              "            Plotly.purge(gd);\n",
              "            observer.disconnect();\n",
              "        }}\n",
              "}});\n",
              "\n",
              "// Listen for the removal of the full notebook cells\n",
              "var notebookContainer = gd.closest('#notebook-container');\n",
              "if (notebookContainer) {{\n",
              "    x.observe(notebookContainer, {childList: true});\n",
              "}}\n",
              "\n",
              "// Listen for the clearing of the current output cell\n",
              "var outputEl = gd.closest('.output');\n",
              "if (outputEl) {{\n",
              "    x.observe(outputEl, {childList: true});\n",
              "}}\n",
              "\n",
              "                        })                };                            </script>        </div>\n",
              "</body>\n",
              "</html>"
            ]
          },
          "metadata": {}
        }
      ]
    },
    {
      "cell_type": "code",
      "source": [
        "user_source['source'].value_counts(normalize=True)"
      ],
      "metadata": {
        "colab": {
          "base_uri": "https://localhost:8080/"
        },
        "id": "uACkt8QWHCaG",
        "outputId": "252bf095-a0c0-48b4-f159-d25718df68cc"
      },
      "execution_count": null,
      "outputs": [
        {
          "output_type": "execute_result",
          "data": {
            "text/plain": [
              "yandex_direct              0.354817\n",
              "instagram_new_adverts      0.246538\n",
              "facebook_ads               0.200796\n",
              "youtube_channel_reklama    0.197849\n",
              "Name: source, dtype: float64"
            ]
          },
          "metadata": {},
          "execution_count": 63
        }
      ]
    },
    {
      "cell_type": "markdown",
      "source": [
        "Самый популярный источник, покоторому пришли пользователи - Яндекс.Директ(35%). Затем идет Инстаграм(примерно 25%), а доля пользователей, пришедших из Фейсбука и Ютуба приблизительно равна 20 %."
      ],
      "metadata": {
        "id": "YkMH3SSrH8Jm"
      }
    },
    {
      "cell_type": "markdown",
      "source": [
        "### Формирование основных метрик для ранжирования каналов по \"эффективности\"\n"
      ],
      "metadata": {
        "id": "lz6otOwD7Np4"
      }
    },
    {
      "cell_type": "markdown",
      "source": [
        "Сформируем таблицу с параметрами, которые могут пригодиться для сравнения каналов привлечения"
      ],
      "metadata": {
        "id": "K7Hel8RP7QwF"
      }
    },
    {
      "cell_type": "markdown",
      "source": [
        "Даты первого и последнего события игрока:"
      ],
      "metadata": {
        "id": "omHm7ZhCAhsn"
      }
    },
    {
      "cell_type": "code",
      "source": [
        "source_actions = user_source.merge(\n",
        "    game_actions.sort_values(by=['user_id', 'event_datetime']).groupby('user_id')['event_datetime'].first(),\n",
        "on='user_id', how='left')\n",
        "source_actions = source_actions.rename(columns={'event_datetime':'first_date'})"
      ],
      "metadata": {
        "id": "spE85m9038_W"
      },
      "execution_count": null,
      "outputs": []
    },
    {
      "cell_type": "code",
      "source": [
        "source_actions = source_actions.merge(\n",
        "    game_actions.sort_values(by=['user_id', 'event_datetime']).groupby('user_id')['event_datetime'].last(),\n",
        "on='user_id', how='left')\n",
        "source_actions = source_actions.rename(columns={'event_datetime':'last_date'})"
      ],
      "metadata": {
        "id": "qTVuNMksIbGi"
      },
      "execution_count": null,
      "outputs": []
    },
    {
      "cell_type": "markdown",
      "source": [
        "Количество зданий"
      ],
      "metadata": {
        "id": "Dvr2mslZCJPc"
      }
    },
    {
      "cell_type": "code",
      "source": [
        "source_actions = source_actions.merge(\n",
        "    game_actions[game_actions['event'] == 'building'].groupby('user_id')['event'].count(),\n",
        "    how='left', on='user_id'\n",
        ")\n",
        "source_actions = source_actions.rename({'event': 'n_buildings'}, axis=1)"
      ],
      "metadata": {
        "id": "kIuyrogRCBtR"
      },
      "execution_count": null,
      "outputs": []
    },
    {
      "cell_type": "markdown",
      "source": [
        "Количество дней в игре"
      ],
      "metadata": {
        "id": "T84yUgzED7QN"
      }
    },
    {
      "cell_type": "code",
      "source": [
        "source_actions['days_in_game'] = source_actions['last_date'] - source_actions['first_date']\n",
        "source_actions['days_in_game'] = source_actions['days_in_game'].dt.days"
      ],
      "metadata": {
        "id": "MJeDNZV8D6qL"
      },
      "execution_count": null,
      "outputs": []
    },
    {
      "cell_type": "markdown",
      "source": [
        "Дата завершения первого уровня, если есть"
      ],
      "metadata": {
        "id": "GMhbptbxs3Ys"
      }
    },
    {
      "cell_type": "code",
      "source": [
        "source_actions = source_actions.merge(\n",
        "    game_actions[game_actions['event'] == 'finished_stage_1'].sort_values(by=['user_id', 'event_datetime'])\n",
        "    .groupby('user_id')['event_datetime'].first(), on='user_id', how='left')\n",
        "source_actions = source_actions.rename(columns={'event_datetime' : 'date_finished_stage_1'})"
      ],
      "metadata": {
        "id": "jLmpTz36sLSo"
      },
      "execution_count": null,
      "outputs": []
    },
    {
      "cell_type": "markdown",
      "source": [
        "Количество дней на завершение уровня"
      ],
      "metadata": {
        "id": "hAWo4gta2Z3U"
      }
    },
    {
      "cell_type": "code",
      "source": [
        "source_actions['days_to_complete'] = (source_actions['date_finished_stage_1'] -\n",
        "                                       source_actions['first_date']).dt.days + 1"
      ],
      "metadata": {
        "id": "78q2FgSh2ZZ7"
      },
      "execution_count": null,
      "outputs": []
    },
    {
      "cell_type": "markdown",
      "source": [
        "Маркер того, что игрок прошел первый уровень"
      ],
      "metadata": {
        "id": "4dKrATJ8tACg"
      }
    },
    {
      "cell_type": "code",
      "source": [
        "source_actions['is_complete'] = source_actions['date_finished_stage_1'].notna() * 1"
      ],
      "metadata": {
        "id": "kK5Upd9gscEl"
      },
      "execution_count": null,
      "outputs": []
    },
    {
      "cell_type": "markdown",
      "source": [
        "Дата завершения проекта"
      ],
      "metadata": {
        "id": "LpsZfduM8kOB"
      }
    },
    {
      "cell_type": "code",
      "source": [
        "source_actions = source_actions.merge(\n",
        "    game_actions[game_actions['event'] == 'project'].sort_values(by=['user_id', 'event_datetime'])\n",
        "    .groupby('user_id')['event_datetime'].first(), on='user_id', how='left')\n",
        "source_actions = source_actions.rename(columns={'event_datetime' : 'date_project'})"
      ],
      "metadata": {
        "id": "Bs1RcX6V8kj-"
      },
      "execution_count": null,
      "outputs": []
    },
    {
      "cell_type": "markdown",
      "source": [
        "Маркер того, что игрок прошел уровень через проект (PVE)"
      ],
      "metadata": {
        "id": "-UYh_TQD1Iym"
      }
    },
    {
      "cell_type": "code",
      "source": [
        "source_actions['project_complete'] = source_actions['date_project'].notna() * 1"
      ],
      "metadata": {
        "id": "yv1OH-iaz3Sb"
      },
      "execution_count": null,
      "outputs": []
    },
    {
      "cell_type": "markdown",
      "source": [
        "Посмотрим на получившуюся таблицу"
      ],
      "metadata": {
        "id": "VNynTim22vNf"
      }
    },
    {
      "cell_type": "code",
      "source": [
        "source_actions"
      ],
      "metadata": {
        "colab": {
          "base_uri": "https://localhost:8080/",
          "height": 921
        },
        "id": "jlgK7lbZ2ziA",
        "outputId": "d0d7e3c9-3502-4814-bfca-0853073b8949"
      },
      "execution_count": null,
      "outputs": [
        {
          "output_type": "execute_result",
          "data": {
            "text/plain": [
              "                                    user_id                   source  \\\n",
              "0      0001f83c-c6ac-4621-b7f0-8a28b283ac30             facebook_ads   \n",
              "1      00151b4f-ba38-44a8-a650-d7cf130a0105            yandex_direct   \n",
              "2      001aaea6-3d14-43f1-8ca8-7f48820f17aa  youtube_channel_reklama   \n",
              "3      001d39dc-366c-4021-9604-6a3b9ff01e25    instagram_new_adverts   \n",
              "4      002f508f-67b6-479f-814b-b05f00d4e995             facebook_ads   \n",
              "...                                     ...                      ...   \n",
              "13571  ffef4fed-164c-40e1-bde1-3980f76d0fb5    instagram_new_adverts   \n",
              "13572  fffab3da-da0e-4e30-ae62-10d0a2e24a4e             facebook_ads   \n",
              "13573  fffb626c-5ab6-47c9-8113-2062a2f18494            yandex_direct   \n",
              "13574  ffff194a-56b7-4c12-860d-3485242ae7f5    instagram_new_adverts   \n",
              "13575  ffff69cc-fec1-4fd3-9f98-93be1112a6b8             facebook_ads   \n",
              "\n",
              "               first_date           last_date  n_buildings  days_in_game  \\\n",
              "0     2020-05-06 01:07:37 2020-05-20 11:26:06           13            14   \n",
              "1     2020-05-06 03:09:12 2020-05-18 10:46:52            9            12   \n",
              "2     2020-05-05 18:08:52 2020-05-14 09:21:27            4             8   \n",
              "3     2020-05-05 21:02:05 2020-05-12 07:40:47            8             6   \n",
              "4     2020-05-05 13:49:58 2020-05-22 02:46:45           12            16   \n",
              "...                   ...                 ...          ...           ...   \n",
              "13571 2020-05-04 01:58:59 2020-05-11 22:15:54            9             7   \n",
              "13572 2020-05-04 11:58:14 2020-05-14 10:11:36           16             9   \n",
              "13573 2020-05-04 02:05:09 2020-05-12 13:01:52            9             8   \n",
              "13574 2020-05-04 20:28:28 2020-05-11 22:04:30            7             7   \n",
              "13575 2020-05-08 06:57:30 2020-05-25 14:05:51           12            17   \n",
              "\n",
              "      date_finished_stage_1  days_to_complete  is_complete  \\\n",
              "0                       NaT               NaN            0   \n",
              "1                       NaT               NaN            0   \n",
              "2                       NaT               NaN            0   \n",
              "3       2020-05-12 07:40:47               7.0            1   \n",
              "4                       NaT               NaN            0   \n",
              "...                     ...               ...          ...   \n",
              "13571   2020-05-11 22:15:54               8.0            1   \n",
              "13572                   NaT               NaN            0   \n",
              "13573   2020-05-12 13:01:52               9.0            1   \n",
              "13574                   NaT               NaN            0   \n",
              "13575   2020-05-25 14:05:51              18.0            1   \n",
              "\n",
              "             date_project  project_complete  \n",
              "0                     NaT                 0  \n",
              "1                     NaT                 0  \n",
              "2                     NaT                 0  \n",
              "3                     NaT                 0  \n",
              "4                     NaT                 0  \n",
              "...                   ...               ...  \n",
              "13571                 NaT                 0  \n",
              "13572                 NaT                 0  \n",
              "13573                 NaT                 0  \n",
              "13574                 NaT                 0  \n",
              "13575 2020-05-25 03:55:06                 1  \n",
              "\n",
              "[13576 rows x 11 columns]"
            ],
            "text/html": [
              "\n",
              "  <div id=\"df-5b493761-ebb2-4b5a-b15a-33411761068a\">\n",
              "    <div class=\"colab-df-container\">\n",
              "      <div>\n",
              "<style scoped>\n",
              "    .dataframe tbody tr th:only-of-type {\n",
              "        vertical-align: middle;\n",
              "    }\n",
              "\n",
              "    .dataframe tbody tr th {\n",
              "        vertical-align: top;\n",
              "    }\n",
              "\n",
              "    .dataframe thead th {\n",
              "        text-align: right;\n",
              "    }\n",
              "</style>\n",
              "<table border=\"1\" class=\"dataframe\">\n",
              "  <thead>\n",
              "    <tr style=\"text-align: right;\">\n",
              "      <th></th>\n",
              "      <th>user_id</th>\n",
              "      <th>source</th>\n",
              "      <th>first_date</th>\n",
              "      <th>last_date</th>\n",
              "      <th>n_buildings</th>\n",
              "      <th>days_in_game</th>\n",
              "      <th>date_finished_stage_1</th>\n",
              "      <th>days_to_complete</th>\n",
              "      <th>is_complete</th>\n",
              "      <th>date_project</th>\n",
              "      <th>project_complete</th>\n",
              "    </tr>\n",
              "  </thead>\n",
              "  <tbody>\n",
              "    <tr>\n",
              "      <th>0</th>\n",
              "      <td>0001f83c-c6ac-4621-b7f0-8a28b283ac30</td>\n",
              "      <td>facebook_ads</td>\n",
              "      <td>2020-05-06 01:07:37</td>\n",
              "      <td>2020-05-20 11:26:06</td>\n",
              "      <td>13</td>\n",
              "      <td>14</td>\n",
              "      <td>NaT</td>\n",
              "      <td>NaN</td>\n",
              "      <td>0</td>\n",
              "      <td>NaT</td>\n",
              "      <td>0</td>\n",
              "    </tr>\n",
              "    <tr>\n",
              "      <th>1</th>\n",
              "      <td>00151b4f-ba38-44a8-a650-d7cf130a0105</td>\n",
              "      <td>yandex_direct</td>\n",
              "      <td>2020-05-06 03:09:12</td>\n",
              "      <td>2020-05-18 10:46:52</td>\n",
              "      <td>9</td>\n",
              "      <td>12</td>\n",
              "      <td>NaT</td>\n",
              "      <td>NaN</td>\n",
              "      <td>0</td>\n",
              "      <td>NaT</td>\n",
              "      <td>0</td>\n",
              "    </tr>\n",
              "    <tr>\n",
              "      <th>2</th>\n",
              "      <td>001aaea6-3d14-43f1-8ca8-7f48820f17aa</td>\n",
              "      <td>youtube_channel_reklama</td>\n",
              "      <td>2020-05-05 18:08:52</td>\n",
              "      <td>2020-05-14 09:21:27</td>\n",
              "      <td>4</td>\n",
              "      <td>8</td>\n",
              "      <td>NaT</td>\n",
              "      <td>NaN</td>\n",
              "      <td>0</td>\n",
              "      <td>NaT</td>\n",
              "      <td>0</td>\n",
              "    </tr>\n",
              "    <tr>\n",
              "      <th>3</th>\n",
              "      <td>001d39dc-366c-4021-9604-6a3b9ff01e25</td>\n",
              "      <td>instagram_new_adverts</td>\n",
              "      <td>2020-05-05 21:02:05</td>\n",
              "      <td>2020-05-12 07:40:47</td>\n",
              "      <td>8</td>\n",
              "      <td>6</td>\n",
              "      <td>2020-05-12 07:40:47</td>\n",
              "      <td>7.0</td>\n",
              "      <td>1</td>\n",
              "      <td>NaT</td>\n",
              "      <td>0</td>\n",
              "    </tr>\n",
              "    <tr>\n",
              "      <th>4</th>\n",
              "      <td>002f508f-67b6-479f-814b-b05f00d4e995</td>\n",
              "      <td>facebook_ads</td>\n",
              "      <td>2020-05-05 13:49:58</td>\n",
              "      <td>2020-05-22 02:46:45</td>\n",
              "      <td>12</td>\n",
              "      <td>16</td>\n",
              "      <td>NaT</td>\n",
              "      <td>NaN</td>\n",
              "      <td>0</td>\n",
              "      <td>NaT</td>\n",
              "      <td>0</td>\n",
              "    </tr>\n",
              "    <tr>\n",
              "      <th>...</th>\n",
              "      <td>...</td>\n",
              "      <td>...</td>\n",
              "      <td>...</td>\n",
              "      <td>...</td>\n",
              "      <td>...</td>\n",
              "      <td>...</td>\n",
              "      <td>...</td>\n",
              "      <td>...</td>\n",
              "      <td>...</td>\n",
              "      <td>...</td>\n",
              "      <td>...</td>\n",
              "    </tr>\n",
              "    <tr>\n",
              "      <th>13571</th>\n",
              "      <td>ffef4fed-164c-40e1-bde1-3980f76d0fb5</td>\n",
              "      <td>instagram_new_adverts</td>\n",
              "      <td>2020-05-04 01:58:59</td>\n",
              "      <td>2020-05-11 22:15:54</td>\n",
              "      <td>9</td>\n",
              "      <td>7</td>\n",
              "      <td>2020-05-11 22:15:54</td>\n",
              "      <td>8.0</td>\n",
              "      <td>1</td>\n",
              "      <td>NaT</td>\n",
              "      <td>0</td>\n",
              "    </tr>\n",
              "    <tr>\n",
              "      <th>13572</th>\n",
              "      <td>fffab3da-da0e-4e30-ae62-10d0a2e24a4e</td>\n",
              "      <td>facebook_ads</td>\n",
              "      <td>2020-05-04 11:58:14</td>\n",
              "      <td>2020-05-14 10:11:36</td>\n",
              "      <td>16</td>\n",
              "      <td>9</td>\n",
              "      <td>NaT</td>\n",
              "      <td>NaN</td>\n",
              "      <td>0</td>\n",
              "      <td>NaT</td>\n",
              "      <td>0</td>\n",
              "    </tr>\n",
              "    <tr>\n",
              "      <th>13573</th>\n",
              "      <td>fffb626c-5ab6-47c9-8113-2062a2f18494</td>\n",
              "      <td>yandex_direct</td>\n",
              "      <td>2020-05-04 02:05:09</td>\n",
              "      <td>2020-05-12 13:01:52</td>\n",
              "      <td>9</td>\n",
              "      <td>8</td>\n",
              "      <td>2020-05-12 13:01:52</td>\n",
              "      <td>9.0</td>\n",
              "      <td>1</td>\n",
              "      <td>NaT</td>\n",
              "      <td>0</td>\n",
              "    </tr>\n",
              "    <tr>\n",
              "      <th>13574</th>\n",
              "      <td>ffff194a-56b7-4c12-860d-3485242ae7f5</td>\n",
              "      <td>instagram_new_adverts</td>\n",
              "      <td>2020-05-04 20:28:28</td>\n",
              "      <td>2020-05-11 22:04:30</td>\n",
              "      <td>7</td>\n",
              "      <td>7</td>\n",
              "      <td>NaT</td>\n",
              "      <td>NaN</td>\n",
              "      <td>0</td>\n",
              "      <td>NaT</td>\n",
              "      <td>0</td>\n",
              "    </tr>\n",
              "    <tr>\n",
              "      <th>13575</th>\n",
              "      <td>ffff69cc-fec1-4fd3-9f98-93be1112a6b8</td>\n",
              "      <td>facebook_ads</td>\n",
              "      <td>2020-05-08 06:57:30</td>\n",
              "      <td>2020-05-25 14:05:51</td>\n",
              "      <td>12</td>\n",
              "      <td>17</td>\n",
              "      <td>2020-05-25 14:05:51</td>\n",
              "      <td>18.0</td>\n",
              "      <td>1</td>\n",
              "      <td>2020-05-25 03:55:06</td>\n",
              "      <td>1</td>\n",
              "    </tr>\n",
              "  </tbody>\n",
              "</table>\n",
              "<p>13576 rows × 11 columns</p>\n",
              "</div>\n",
              "      <button class=\"colab-df-convert\" onclick=\"convertToInteractive('df-5b493761-ebb2-4b5a-b15a-33411761068a')\"\n",
              "              title=\"Convert this dataframe to an interactive table.\"\n",
              "              style=\"display:none;\">\n",
              "        \n",
              "  <svg xmlns=\"http://www.w3.org/2000/svg\" height=\"24px\"viewBox=\"0 0 24 24\"\n",
              "       width=\"24px\">\n",
              "    <path d=\"M0 0h24v24H0V0z\" fill=\"none\"/>\n",
              "    <path d=\"M18.56 5.44l.94 2.06.94-2.06 2.06-.94-2.06-.94-.94-2.06-.94 2.06-2.06.94zm-11 1L8.5 8.5l.94-2.06 2.06-.94-2.06-.94L8.5 2.5l-.94 2.06-2.06.94zm10 10l.94 2.06.94-2.06 2.06-.94-2.06-.94-.94-2.06-.94 2.06-2.06.94z\"/><path d=\"M17.41 7.96l-1.37-1.37c-.4-.4-.92-.59-1.43-.59-.52 0-1.04.2-1.43.59L10.3 9.45l-7.72 7.72c-.78.78-.78 2.05 0 2.83L4 21.41c.39.39.9.59 1.41.59.51 0 1.02-.2 1.41-.59l7.78-7.78 2.81-2.81c.8-.78.8-2.07 0-2.86zM5.41 20L4 18.59l7.72-7.72 1.47 1.35L5.41 20z\"/>\n",
              "  </svg>\n",
              "      </button>\n",
              "      \n",
              "  <style>\n",
              "    .colab-df-container {\n",
              "      display:flex;\n",
              "      flex-wrap:wrap;\n",
              "      gap: 12px;\n",
              "    }\n",
              "\n",
              "    .colab-df-convert {\n",
              "      background-color: #E8F0FE;\n",
              "      border: none;\n",
              "      border-radius: 50%;\n",
              "      cursor: pointer;\n",
              "      display: none;\n",
              "      fill: #1967D2;\n",
              "      height: 32px;\n",
              "      padding: 0 0 0 0;\n",
              "      width: 32px;\n",
              "    }\n",
              "\n",
              "    .colab-df-convert:hover {\n",
              "      background-color: #E2EBFA;\n",
              "      box-shadow: 0px 1px 2px rgba(60, 64, 67, 0.3), 0px 1px 3px 1px rgba(60, 64, 67, 0.15);\n",
              "      fill: #174EA6;\n",
              "    }\n",
              "\n",
              "    [theme=dark] .colab-df-convert {\n",
              "      background-color: #3B4455;\n",
              "      fill: #D2E3FC;\n",
              "    }\n",
              "\n",
              "    [theme=dark] .colab-df-convert:hover {\n",
              "      background-color: #434B5C;\n",
              "      box-shadow: 0px 1px 3px 1px rgba(0, 0, 0, 0.15);\n",
              "      filter: drop-shadow(0px 1px 2px rgba(0, 0, 0, 0.3));\n",
              "      fill: #FFFFFF;\n",
              "    }\n",
              "  </style>\n",
              "\n",
              "      <script>\n",
              "        const buttonEl =\n",
              "          document.querySelector('#df-5b493761-ebb2-4b5a-b15a-33411761068a button.colab-df-convert');\n",
              "        buttonEl.style.display =\n",
              "          google.colab.kernel.accessAllowed ? 'block' : 'none';\n",
              "\n",
              "        async function convertToInteractive(key) {\n",
              "          const element = document.querySelector('#df-5b493761-ebb2-4b5a-b15a-33411761068a');\n",
              "          const dataTable =\n",
              "            await google.colab.kernel.invokeFunction('convertToInteractive',\n",
              "                                                     [key], {});\n",
              "          if (!dataTable) return;\n",
              "\n",
              "          const docLinkHtml = 'Like what you see? Visit the ' +\n",
              "            '<a target=\"_blank\" href=https://colab.research.google.com/notebooks/data_table.ipynb>data table notebook</a>'\n",
              "            + ' to learn more about interactive tables.';\n",
              "          element.innerHTML = '';\n",
              "          dataTable['output_type'] = 'display_data';\n",
              "          await google.colab.output.renderOutput(dataTable, element);\n",
              "          const docLink = document.createElement('div');\n",
              "          docLink.innerHTML = docLinkHtml;\n",
              "          element.appendChild(docLink);\n",
              "        }\n",
              "      </script>\n",
              "    </div>\n",
              "  </div>\n",
              "  "
            ]
          },
          "metadata": {},
          "execution_count": 24
        }
      ]
    },
    {
      "cell_type": "markdown",
      "source": [
        "Реклама показывается пользователю во время постройки здания. Посмотрим на средние значения количества зданий по каналам, как некую косвенную меру дохода."
      ],
      "metadata": {
        "id": "iQhBx7aakxQk"
      }
    },
    {
      "cell_type": "code",
      "source": [
        "source_actions.groupby(['source'])['n_buildings'].mean()"
      ],
      "metadata": {
        "colab": {
          "base_uri": "https://localhost:8080/"
        },
        "id": "4RXezKTrCBq3",
        "outputId": "89903fe6-33a1-4d32-8df6-ec5dc94d7051"
      },
      "execution_count": null,
      "outputs": [
        {
          "output_type": "execute_result",
          "data": {
            "text/plain": [
              "source\n",
              "facebook_ads               9.585840\n",
              "instagram_new_adverts      9.505527\n",
              "yandex_direct              9.348557\n",
              "youtube_channel_reklama    9.299330\n",
              "Name: n_buildings, dtype: float64"
            ]
          },
          "metadata": {},
          "execution_count": 25
        }
      ]
    },
    {
      "cell_type": "markdown",
      "source": [
        "Количество зданий везде примерно одинаково."
      ],
      "metadata": {
        "id": "fZvk4yfXksTf"
      }
    },
    {
      "cell_type": "markdown",
      "source": [
        "Чтобы оценить вовлеченность игроков, посмотрим на доли прошедших уровень в зависимости от источника привлечения"
      ],
      "metadata": {
        "id": "AQqmgRRmlSGE"
      }
    },
    {
      "cell_type": "code",
      "source": [
        "source_actions.groupby('source')['is_complete'].mean()"
      ],
      "metadata": {
        "colab": {
          "base_uri": "https://localhost:8080/"
        },
        "id": "V6obfg2TCBQW",
        "outputId": "55f7be7c-4b91-4301-d66d-5de202a7d034"
      },
      "execution_count": null,
      "outputs": [
        {
          "output_type": "execute_result",
          "data": {
            "text/plain": [
              "source\n",
              "facebook_ads               0.421864\n",
              "instagram_new_adverts      0.438004\n",
              "yandex_direct              0.423915\n",
              "youtube_channel_reklama    0.431497\n",
              "Name: is_complete, dtype: float64"
            ]
          },
          "metadata": {},
          "execution_count": 26
        }
      ]
    },
    {
      "cell_type": "markdown",
      "source": [
        "По всем источника доля тех игроков, кто завершил первй уровень, практически одинакова, и составляет 42-44 %."
      ],
      "metadata": {
        "id": "QYYY79OXtTJe"
      }
    },
    {
      "cell_type": "markdown",
      "source": [
        "Посмотрим, как варьруется среднее количество дней, проведенных в игре, в зависимости от источника"
      ],
      "metadata": {
        "id": "yJJ29nbdvjCt"
      }
    },
    {
      "cell_type": "code",
      "source": [
        "source_actions.groupby('source')['days_in_game'].mean()"
      ],
      "metadata": {
        "colab": {
          "base_uri": "https://localhost:8080/"
        },
        "id": "VJ2R-kKYvXPP",
        "outputId": "d1a4c11b-f8f1-4eaa-d8bb-419e3a2259eb"
      },
      "execution_count": null,
      "outputs": [
        {
          "output_type": "execute_result",
          "data": {
            "text/plain": [
              "source\n",
              "facebook_ads               10.223404\n",
              "instagram_new_adverts      10.289812\n",
              "yandex_direct              10.121652\n",
              "youtube_channel_reklama    10.080045\n",
              "Name: days_in_game, dtype: float64"
            ]
          },
          "metadata": {},
          "execution_count": 27
        }
      ]
    },
    {
      "cell_type": "markdown",
      "source": [
        "По всем источникам данный показатель в среднем примерно равен 10 дням"
      ],
      "metadata": {
        "id": "XUxhvCoIv3BZ"
      }
    },
    {
      "cell_type": "markdown",
      "source": [
        "Узнаем, сколько в среднем стоило привлечение одного пользователя (CAC) из каждого источника"
      ],
      "metadata": {
        "id": "sbfQDC78xGlI"
      }
    },
    {
      "cell_type": "code",
      "source": [
        "ad_costs['cost'].sum() / len(user_source)"
      ],
      "metadata": {
        "colab": {
          "base_uri": "https://localhost:8080/"
        },
        "id": "3wEgUEZXIbO_",
        "outputId": "ed8f4a0d-f300-4bba-80be-9b5002d06982"
      },
      "execution_count": null,
      "outputs": [
        {
          "output_type": "execute_result",
          "data": {
            "text/plain": [
              "0.5600749106355349"
            ]
          },
          "metadata": {},
          "execution_count": 28
        }
      ]
    },
    {
      "cell_type": "markdown",
      "source": [
        "САС по источникам трафика c количеством пользователей"
      ],
      "metadata": {
        "id": "ysclQoSSugFP"
      }
    },
    {
      "cell_type": "code",
      "source": [
        "cost_source_per_user = ad_costs.groupby('source')['cost'].sum() / user_source['source'].value_counts()\n",
        "cost_source_per_user = cost_source_per_user.reset_index()\n",
        "cost_source_per_user = cost_source_per_user.merge(user_source['source'].value_counts().reset_index())\n",
        "cost_source_per_user = (cost_source_per_user.\n",
        "                        rename(columns={'index':'source', 0:'cost_per_user', 'source': 'n_users'}))\n",
        "cost_source_per_user"
      ],
      "metadata": {
        "colab": {
          "base_uri": "https://localhost:8080/",
          "height": 175
        },
        "id": "jSDODFcpIbMQ",
        "outputId": "091c5dd8-cbfc-44ec-a8df-5f8f7ddae327"
      },
      "execution_count": null,
      "outputs": [
        {
          "output_type": "execute_result",
          "data": {
            "text/plain": [
              "                    source  cost_per_user  n_users\n",
              "0             facebook_ads       0.785365     2726\n",
              "1    instagram_new_adverts       0.645785     3347\n",
              "2            yandex_direct       0.463590     4817\n",
              "3  youtube_channel_reklama       0.397662     2686"
            ],
            "text/html": [
              "\n",
              "  <div id=\"df-46d8a794-6d19-49c8-822f-e70bf5d5f026\">\n",
              "    <div class=\"colab-df-container\">\n",
              "      <div>\n",
              "<style scoped>\n",
              "    .dataframe tbody tr th:only-of-type {\n",
              "        vertical-align: middle;\n",
              "    }\n",
              "\n",
              "    .dataframe tbody tr th {\n",
              "        vertical-align: top;\n",
              "    }\n",
              "\n",
              "    .dataframe thead th {\n",
              "        text-align: right;\n",
              "    }\n",
              "</style>\n",
              "<table border=\"1\" class=\"dataframe\">\n",
              "  <thead>\n",
              "    <tr style=\"text-align: right;\">\n",
              "      <th></th>\n",
              "      <th>source</th>\n",
              "      <th>cost_per_user</th>\n",
              "      <th>n_users</th>\n",
              "    </tr>\n",
              "  </thead>\n",
              "  <tbody>\n",
              "    <tr>\n",
              "      <th>0</th>\n",
              "      <td>facebook_ads</td>\n",
              "      <td>0.785365</td>\n",
              "      <td>2726</td>\n",
              "    </tr>\n",
              "    <tr>\n",
              "      <th>1</th>\n",
              "      <td>instagram_new_adverts</td>\n",
              "      <td>0.645785</td>\n",
              "      <td>3347</td>\n",
              "    </tr>\n",
              "    <tr>\n",
              "      <th>2</th>\n",
              "      <td>yandex_direct</td>\n",
              "      <td>0.463590</td>\n",
              "      <td>4817</td>\n",
              "    </tr>\n",
              "    <tr>\n",
              "      <th>3</th>\n",
              "      <td>youtube_channel_reklama</td>\n",
              "      <td>0.397662</td>\n",
              "      <td>2686</td>\n",
              "    </tr>\n",
              "  </tbody>\n",
              "</table>\n",
              "</div>\n",
              "      <button class=\"colab-df-convert\" onclick=\"convertToInteractive('df-46d8a794-6d19-49c8-822f-e70bf5d5f026')\"\n",
              "              title=\"Convert this dataframe to an interactive table.\"\n",
              "              style=\"display:none;\">\n",
              "        \n",
              "  <svg xmlns=\"http://www.w3.org/2000/svg\" height=\"24px\"viewBox=\"0 0 24 24\"\n",
              "       width=\"24px\">\n",
              "    <path d=\"M0 0h24v24H0V0z\" fill=\"none\"/>\n",
              "    <path d=\"M18.56 5.44l.94 2.06.94-2.06 2.06-.94-2.06-.94-.94-2.06-.94 2.06-2.06.94zm-11 1L8.5 8.5l.94-2.06 2.06-.94-2.06-.94L8.5 2.5l-.94 2.06-2.06.94zm10 10l.94 2.06.94-2.06 2.06-.94-2.06-.94-.94-2.06-.94 2.06-2.06.94z\"/><path d=\"M17.41 7.96l-1.37-1.37c-.4-.4-.92-.59-1.43-.59-.52 0-1.04.2-1.43.59L10.3 9.45l-7.72 7.72c-.78.78-.78 2.05 0 2.83L4 21.41c.39.39.9.59 1.41.59.51 0 1.02-.2 1.41-.59l7.78-7.78 2.81-2.81c.8-.78.8-2.07 0-2.86zM5.41 20L4 18.59l7.72-7.72 1.47 1.35L5.41 20z\"/>\n",
              "  </svg>\n",
              "      </button>\n",
              "      \n",
              "  <style>\n",
              "    .colab-df-container {\n",
              "      display:flex;\n",
              "      flex-wrap:wrap;\n",
              "      gap: 12px;\n",
              "    }\n",
              "\n",
              "    .colab-df-convert {\n",
              "      background-color: #E8F0FE;\n",
              "      border: none;\n",
              "      border-radius: 50%;\n",
              "      cursor: pointer;\n",
              "      display: none;\n",
              "      fill: #1967D2;\n",
              "      height: 32px;\n",
              "      padding: 0 0 0 0;\n",
              "      width: 32px;\n",
              "    }\n",
              "\n",
              "    .colab-df-convert:hover {\n",
              "      background-color: #E2EBFA;\n",
              "      box-shadow: 0px 1px 2px rgba(60, 64, 67, 0.3), 0px 1px 3px 1px rgba(60, 64, 67, 0.15);\n",
              "      fill: #174EA6;\n",
              "    }\n",
              "\n",
              "    [theme=dark] .colab-df-convert {\n",
              "      background-color: #3B4455;\n",
              "      fill: #D2E3FC;\n",
              "    }\n",
              "\n",
              "    [theme=dark] .colab-df-convert:hover {\n",
              "      background-color: #434B5C;\n",
              "      box-shadow: 0px 1px 3px 1px rgba(0, 0, 0, 0.15);\n",
              "      filter: drop-shadow(0px 1px 2px rgba(0, 0, 0, 0.3));\n",
              "      fill: #FFFFFF;\n",
              "    }\n",
              "  </style>\n",
              "\n",
              "      <script>\n",
              "        const buttonEl =\n",
              "          document.querySelector('#df-46d8a794-6d19-49c8-822f-e70bf5d5f026 button.colab-df-convert');\n",
              "        buttonEl.style.display =\n",
              "          google.colab.kernel.accessAllowed ? 'block' : 'none';\n",
              "\n",
              "        async function convertToInteractive(key) {\n",
              "          const element = document.querySelector('#df-46d8a794-6d19-49c8-822f-e70bf5d5f026');\n",
              "          const dataTable =\n",
              "            await google.colab.kernel.invokeFunction('convertToInteractive',\n",
              "                                                     [key], {});\n",
              "          if (!dataTable) return;\n",
              "\n",
              "          const docLinkHtml = 'Like what you see? Visit the ' +\n",
              "            '<a target=\"_blank\" href=https://colab.research.google.com/notebooks/data_table.ipynb>data table notebook</a>'\n",
              "            + ' to learn more about interactive tables.';\n",
              "          element.innerHTML = '';\n",
              "          dataTable['output_type'] = 'display_data';\n",
              "          await google.colab.output.renderOutput(dataTable, element);\n",
              "          const docLink = document.createElement('div');\n",
              "          docLink.innerHTML = docLinkHtml;\n",
              "          element.appendChild(docLink);\n",
              "        }\n",
              "      </script>\n",
              "    </div>\n",
              "  </div>\n",
              "  "
            ]
          },
          "metadata": {},
          "execution_count": 29
        }
      ]
    },
    {
      "cell_type": "code",
      "source": [
        "cost_source_per_user.plot(y='cost_per_user', x='source', kind='bar', figsize=(14,5))\n",
        "plt.hlines(ad_costs['cost'].sum() / len(user_source), -2, 5, linestyles='dashed')\n",
        "plt.title('Стоимость привлечения пользователей по источникам', fontsize=14)\n",
        "plt.ylabel('Затраты на привлечение, у.е.')\n",
        "plt.xlabel('Источники')\n",
        "plt.show()"
      ],
      "metadata": {
        "colab": {
          "base_uri": "https://localhost:8080/",
          "height": 633
        },
        "id": "XJqIylHFIbJq",
        "outputId": "df405ef2-b460-4f18-c300-e8804fd4f0d0"
      },
      "execution_count": null,
      "outputs": [
        {
          "output_type": "display_data",
          "data": {
            "text/plain": [
              "<Figure size 1400x500 with 1 Axes>"
            ],
            "image/png": "[encoded data removed]"
          },
          "metadata": {}
        }
      ]
    },
    {
      "cell_type": "markdown",
      "source": [
        "Самым экономичным источником привлечения является реклама на YouTube, в то время как самым затратным источником на одного игрока является Facebook. Стоимость привлечения одного игрока через Facebook почти вдвое выше, чем через YouTube (0.4 у.е. против 0.79 у.е.). В то же время оба этих канала привлекли примерно одинаковое количество игроков за анализируемый период (2686 и 2726 человек соответственно).\n",
        "\n",
        "Яндекс является следующим по стоимости дешевым источником, причем через него было привлечено максимальное количество игроков (4817 пользователей при стоимости привлечения 0.46 у.е.).\n",
        "\n",
        "Инстаграм является дорогим источником (0.65 у.е. на игрока), однако через него пришло четверть всех игроков.\n",
        "\n",
        "Стоимость привлечения игрока через Facebook значительно выше, и этот источник кажется наименее привлекательным."
      ],
      "metadata": {
        "id": "nFEjUzc2J7tJ"
      }
    },
    {
      "cell_type": "markdown",
      "source": [
        "## Часть 4. Проверка статистических гипотез"
      ],
      "metadata": {
        "id": "WQKRaTX1wsT7"
      }
    },
    {
      "cell_type": "markdown",
      "source": [
        "<b>Время завершения уровня различается в зависимости способа прохождения</b>"
      ],
      "metadata": {
        "id": "ARuWnpwsw4UU"
      }
    },
    {
      "cell_type": "markdown",
      "source": [
        "Для начала вспомним, какие есть способы прохождения. Первый - через завершение проекта (PVE), второй - через победу над соперником(PVP).Распределим данные по этому признаку и посмотрим на средние значения по времени прохождения уровня"
      ],
      "metadata": {
        "id": "GaEdBfhqydqr"
      }
    },
    {
      "cell_type": "code",
      "source": [
        "round(source_actions[source_actions['is_complete'] == 1].\n",
        "      groupby('project_complete')['days_to_complete'].mean(), 0)"
      ],
      "metadata": {
        "colab": {
          "base_uri": "https://localhost:8080/"
        },
        "id": "LiObbxEpCBNw",
        "outputId": "d88bf056-0eab-4f9c-af63-55dd70390a5c"
      },
      "execution_count": null,
      "outputs": [
        {
          "output_type": "execute_result",
          "data": {
            "text/plain": [
              "project_complete\n",
              "0    12.0\n",
              "1    14.0\n",
              "Name: days_to_complete, dtype: float64"
            ]
          },
          "metadata": {},
          "execution_count": 31
        }
      ]
    },
    {
      "cell_type": "markdown",
      "source": [
        "Те, кто использовал стратегию PVP, в среднем быстрее завершают уровень на два дня. Посмотрим на распределение по дням среди всех, кто завершил уровень"
      ],
      "metadata": {
        "id": "msHrjDi89Vc7"
      }
    },
    {
      "cell_type": "code",
      "source": [
        "# Преобразуем столбец 'last_date' в столбец времени\n",
        "source_actions['last_date'] = pd.to_datetime(source_actions['last_date'])\n",
        "\n",
        "# Сгруппируем данные по дате и подсчитаем количество уникальных пользователей\n",
        "daily_counts = source_actions[source_actions['is_complete'] == 1]['last_date'].dt.date.value_counts().sort_index()\n",
        "\n",
        "# Строим график распределения\n",
        "fig, ax = plt.subplots(figsize=(12, 6))\n",
        "daily_counts.plot(kind='line', ax=ax)\n",
        "\n",
        "\n",
        "ax.set_title('Распределение игроков, завершивших уровень', fontsize=14)\n",
        "ax.set_xlabel('Дата')\n",
        "ax.set_ylabel('Количество уникальных пользователей')\n",
        "ax.grid(True)\n",
        "\n",
        "\n",
        "plt.show()\n"
      ],
      "metadata": {
        "id": "MxS64744BY8W",
        "colab": {
          "base_uri": "https://localhost:8080/",
          "height": 565
        },
        "outputId": "07cb31d5-329a-4be5-ac24-2424ae3acf03"
      },
      "execution_count": null,
      "outputs": [
        {
          "output_type": "display_data",
          "data": {
            "text/plain": [
              "<Figure size 1200x600 with 1 Axes>"
            ],
            "image/png": "[encoded data removed]"
          },
          "metadata": {}
        }
      ]
    },
    {
      "cell_type": "markdown",
      "source": [
        "Распределение выглядит \"нормально\", можно использовать t-test для анализа статистической значимости"
      ],
      "metadata": {
        "id": "SN7CY_-8AO4E"
      }
    },
    {
      "cell_type": "markdown",
      "source": [
        "Формулируем гипотезы:\n",
        "\n",
        "H0: Среднее время на завершение уровня через PVE равно среднему времени на завершение уровня через PVP\n",
        "\n",
        "H0: Среднее время на завершение уровня через PVE неравно среднему времени на завершение уровня через PVP"
      ],
      "metadata": {
        "id": "WkORgWmXAZgI"
      }
    },
    {
      "cell_type": "markdown",
      "source": [
        "Посмотрим на размер выборок"
      ],
      "metadata": {
        "id": "NFjQP-whB3ZE"
      }
    },
    {
      "cell_type": "code",
      "source": [
        "#PVE\n",
        "len(source_actions[(source_actions['is_complete'] == 1)\n",
        "                       & (source_actions['project_complete'] == 1)])"
      ],
      "metadata": {
        "colab": {
          "base_uri": "https://localhost:8080/"
        },
        "id": "UFevwfCPB7zp",
        "outputId": "9438881a-7bff-468a-e4fa-639dbaad7694"
      },
      "execution_count": null,
      "outputs": [
        {
          "output_type": "execute_result",
          "data": {
            "text/plain": [
              "1866"
            ]
          },
          "metadata": {},
          "execution_count": 33
        }
      ]
    },
    {
      "cell_type": "code",
      "source": [
        "#PVP\n",
        "len(source_actions[(source_actions['is_complete'] == 1)\n",
        "                       & (source_actions['project_complete'] == 0)])"
      ],
      "metadata": {
        "colab": {
          "base_uri": "https://localhost:8080/"
        },
        "id": "Q-fLp8TzB9iI",
        "outputId": "6edc6a30-c643-4842-8a07-bd909717fc77"
      },
      "execution_count": null,
      "outputs": [
        {
          "output_type": "execute_result",
          "data": {
            "text/plain": [
              "3951"
            ]
          },
          "metadata": {},
          "execution_count": 34
        }
      ]
    },
    {
      "cell_type": "markdown",
      "source": [
        "При небольшом объеме выборки вероятность получить случайные результаты выше, в то время как с увеличением объема выборки случайные отклонения компенсируют друг друга, и вероятность обнаружить значимые различия в выборках при их однородности становится ниже. Учитывая, что объем выборки игроков, реализовавших проект, составляет 1866, а игроков, победивших соперника, - 3951, мы выберем стандартный уровень значимости для проведения статистического анализа, который составляет 5%."
      ],
      "metadata": {
        "id": "XHUl2d-HCJFx"
      }
    },
    {
      "cell_type": "code",
      "source": [
        "alpha = 0.05\n",
        "\n",
        "results = st.ttest_ind(source_actions[(source_actions['is_complete'] == 1)\n",
        "                       & (source_actions['project_complete'] == 1)]['days_to_complete'],\\\n",
        "                       source_actions[(source_actions['is_complete'] == 1)\n",
        "                       & (source_actions['project_complete'] == 0)]['days_to_complete'], equal_var = False)\n",
        "print('p-значение: ', results.pvalue)\n",
        "\n",
        "if (results.pvalue < alpha):\n",
        "    print(\"Отвергаем нулевую гипотезу, различие между пользователями есть\")\n",
        "else:\n",
        "    print(\"Не получилось отвергнуть нулевую гипотезу, различия между пользователями нет\")"
      ],
      "metadata": {
        "id": "xFUpcc07BY52",
        "colab": {
          "base_uri": "https://localhost:8080/"
        },
        "outputId": "d8b89e7c-b4e4-47e1-d213-9eb055b705d6"
      },
      "execution_count": null,
      "outputs": [
        {
          "output_type": "stream",
          "name": "stdout",
          "text": [
            "p-значение:  2.6237027268065695e-106\n",
            "Отвергаем нулевую гипотезу, различие между пользователями есть\n"
          ]
        }
      ]
    },
    {
      "cell_type": "markdown",
      "source": [
        "Проверим гипотезу о различии времени прохождения уровня пользователями в зависимости от рекламного источника"
      ],
      "metadata": {
        "id": "qJno_SZwCby8"
      }
    },
    {
      "cell_type": "markdown",
      "source": [
        "Сравним источники с самым высоким процентом (instagram_new_adverts (44%)) и самым низким (facebook_ads (42%))"
      ],
      "metadata": {
        "id": "p3ByEldGCmdq"
      }
    },
    {
      "cell_type": "markdown",
      "source": [
        "Формулируем гипотезы:\n",
        "\n",
        "H0: Различия во времени прохождения уровня пользователями в зависимости от рекламного источника нет\n",
        "\n",
        "H0: Различия во времени прохождения уровня пользователями в зависимости от рекламного источника есть"
      ],
      "metadata": {
        "id": "qwh8RPxFC699"
      }
    },
    {
      "cell_type": "markdown",
      "source": [
        "Подготовим данные"
      ],
      "metadata": {
        "id": "UVa2RaVPDvsW"
      }
    },
    {
      "cell_type": "code",
      "source": [
        "facebook = source_actions[['source', 'days_to_complete']].query('source == \"facebook_ads\"')\n",
        "instagram = source_actions[['source', 'days_to_complete']].query('source == \"instagram_new_adverts\"')"
      ],
      "metadata": {
        "id": "H6kMd6zxAMBX"
      },
      "execution_count": null,
      "outputs": []
    },
    {
      "cell_type": "markdown",
      "source": [
        "Удалим пустые значения"
      ],
      "metadata": {
        "id": "O5djp32LFpIE"
      }
    },
    {
      "cell_type": "code",
      "source": [
        "facebook = facebook.dropna()\n",
        "facebook"
      ],
      "metadata": {
        "colab": {
          "base_uri": "https://localhost:8080/",
          "height": 423
        },
        "id": "8V4uViJVFXek",
        "outputId": "55d640d8-19a3-4a5c-9baa-9b333b0f78e0"
      },
      "execution_count": null,
      "outputs": [
        {
          "output_type": "execute_result",
          "data": {
            "text/plain": [
              "             source  days_to_complete\n",
              "7      facebook_ads              13.0\n",
              "23     facebook_ads              10.0\n",
              "61     facebook_ads              19.0\n",
              "75     facebook_ads              10.0\n",
              "82     facebook_ads              19.0\n",
              "...             ...               ...\n",
              "13516  facebook_ads              17.0\n",
              "13539  facebook_ads              20.0\n",
              "13542  facebook_ads               8.0\n",
              "13544  facebook_ads               9.0\n",
              "13575  facebook_ads              18.0\n",
              "\n",
              "[1150 rows x 2 columns]"
            ],
            "text/html": [
              "\n",
              "  <div id=\"df-75249e7c-b702-44ca-a3c3-4e02e7bf9815\">\n",
              "    <div class=\"colab-df-container\">\n",
              "      <div>\n",
              "<style scoped>\n",
              "    .dataframe tbody tr th:only-of-type {\n",
              "        vertical-align: middle;\n",
              "    }\n",
              "\n",
              "    .dataframe tbody tr th {\n",
              "        vertical-align: top;\n",
              "    }\n",
              "\n",
              "    .dataframe thead th {\n",
              "        text-align: right;\n",
              "    }\n",
              "</style>\n",
              "<table border=\"1\" class=\"dataframe\">\n",
              "  <thead>\n",
              "    <tr style=\"text-align: right;\">\n",
              "      <th></th>\n",
              "      <th>source</th>\n",
              "      <th>days_to_complete</th>\n",
              "    </tr>\n",
              "  </thead>\n",
              "  <tbody>\n",
              "    <tr>\n",
              "      <th>7</th>\n",
              "      <td>facebook_ads</td>\n",
              "      <td>13.0</td>\n",
              "    </tr>\n",
              "    <tr>\n",
              "      <th>23</th>\n",
              "      <td>facebook_ads</td>\n",
              "      <td>10.0</td>\n",
              "    </tr>\n",
              "    <tr>\n",
              "      <th>61</th>\n",
              "      <td>facebook_ads</td>\n",
              "      <td>19.0</td>\n",
              "    </tr>\n",
              "    <tr>\n",
              "      <th>75</th>\n",
              "      <td>facebook_ads</td>\n",
              "      <td>10.0</td>\n",
              "    </tr>\n",
              "    <tr>\n",
              "      <th>82</th>\n",
              "      <td>facebook_ads</td>\n",
              "      <td>19.0</td>\n",
              "    </tr>\n",
              "    <tr>\n",
              "      <th>...</th>\n",
              "      <td>...</td>\n",
              "      <td>...</td>\n",
              "    </tr>\n",
              "    <tr>\n",
              "      <th>13516</th>\n",
              "      <td>facebook_ads</td>\n",
              "      <td>17.0</td>\n",
              "    </tr>\n",
              "    <tr>\n",
              "      <th>13539</th>\n",
              "      <td>facebook_ads</td>\n",
              "      <td>20.0</td>\n",
              "    </tr>\n",
              "    <tr>\n",
              "      <th>13542</th>\n",
              "      <td>facebook_ads</td>\n",
              "      <td>8.0</td>\n",
              "    </tr>\n",
              "    <tr>\n",
              "      <th>13544</th>\n",
              "      <td>facebook_ads</td>\n",
              "      <td>9.0</td>\n",
              "    </tr>\n",
              "    <tr>\n",
              "      <th>13575</th>\n",
              "      <td>facebook_ads</td>\n",
              "      <td>18.0</td>\n",
              "    </tr>\n",
              "  </tbody>\n",
              "</table>\n",
              "<p>1150 rows × 2 columns</p>\n",
              "</div>\n",
              "      <button class=\"colab-df-convert\" onclick=\"convertToInteractive('df-75249e7c-b702-44ca-a3c3-4e02e7bf9815')\"\n",
              "              title=\"Convert this dataframe to an interactive table.\"\n",
              "              style=\"display:none;\">\n",
              "        \n",
              "  <svg xmlns=\"http://www.w3.org/2000/svg\" height=\"24px\"viewBox=\"0 0 24 24\"\n",
              "       width=\"24px\">\n",
              "    <path d=\"M0 0h24v24H0V0z\" fill=\"none\"/>\n",
              "    <path d=\"M18.56 5.44l.94 2.06.94-2.06 2.06-.94-2.06-.94-.94-2.06-.94 2.06-2.06.94zm-11 1L8.5 8.5l.94-2.06 2.06-.94-2.06-.94L8.5 2.5l-.94 2.06-2.06.94zm10 10l.94 2.06.94-2.06 2.06-.94-2.06-.94-.94-2.06-.94 2.06-2.06.94z\"/><path d=\"M17.41 7.96l-1.37-1.37c-.4-.4-.92-.59-1.43-.59-.52 0-1.04.2-1.43.59L10.3 9.45l-7.72 7.72c-.78.78-.78 2.05 0 2.83L4 21.41c.39.39.9.59 1.41.59.51 0 1.02-.2 1.41-.59l7.78-7.78 2.81-2.81c.8-.78.8-2.07 0-2.86zM5.41 20L4 18.59l7.72-7.72 1.47 1.35L5.41 20z\"/>\n",
              "  </svg>\n",
              "      </button>\n",
              "      \n",
              "  <style>\n",
              "    .colab-df-container {\n",
              "      display:flex;\n",
              "      flex-wrap:wrap;\n",
              "      gap: 12px;\n",
              "    }\n",
              "\n",
              "    .colab-df-convert {\n",
              "      background-color: #E8F0FE;\n",
              "      border: none;\n",
              "      border-radius: 50%;\n",
              "      cursor: pointer;\n",
              "      display: none;\n",
              "      fill: #1967D2;\n",
              "      height: 32px;\n",
              "      padding: 0 0 0 0;\n",
              "      width: 32px;\n",
              "    }\n",
              "\n",
              "    .colab-df-convert:hover {\n",
              "      background-color: #E2EBFA;\n",
              "      box-shadow: 0px 1px 2px rgba(60, 64, 67, 0.3), 0px 1px 3px 1px rgba(60, 64, 67, 0.15);\n",
              "      fill: #174EA6;\n",
              "    }\n",
              "\n",
              "    [theme=dark] .colab-df-convert {\n",
              "      background-color: #3B4455;\n",
              "      fill: #D2E3FC;\n",
              "    }\n",
              "\n",
              "    [theme=dark] .colab-df-convert:hover {\n",
              "      background-color: #434B5C;\n",
              "      box-shadow: 0px 1px 3px 1px rgba(0, 0, 0, 0.15);\n",
              "      filter: drop-shadow(0px 1px 2px rgba(0, 0, 0, 0.3));\n",
              "      fill: #FFFFFF;\n",
              "    }\n",
              "  </style>\n",
              "\n",
              "      <script>\n",
              "        const buttonEl =\n",
              "          document.querySelector('#df-75249e7c-b702-44ca-a3c3-4e02e7bf9815 button.colab-df-convert');\n",
              "        buttonEl.style.display =\n",
              "          google.colab.kernel.accessAllowed ? 'block' : 'none';\n",
              "\n",
              "        async function convertToInteractive(key) {\n",
              "          const element = document.querySelector('#df-75249e7c-b702-44ca-a3c3-4e02e7bf9815');\n",
              "          const dataTable =\n",
              "            await google.colab.kernel.invokeFunction('convertToInteractive',\n",
              "                                                     [key], {});\n",
              "          if (!dataTable) return;\n",
              "\n",
              "          const docLinkHtml = 'Like what you see? Visit the ' +\n",
              "            '<a target=\"_blank\" href=https://colab.research.google.com/notebooks/data_table.ipynb>data table notebook</a>'\n",
              "            + ' to learn more about interactive tables.';\n",
              "          element.innerHTML = '';\n",
              "          dataTable['output_type'] = 'display_data';\n",
              "          await google.colab.output.renderOutput(dataTable, element);\n",
              "          const docLink = document.createElement('div');\n",
              "          docLink.innerHTML = docLinkHtml;\n",
              "          element.appendChild(docLink);\n",
              "        }\n",
              "      </script>\n",
              "    </div>\n",
              "  </div>\n",
              "  "
            ]
          },
          "metadata": {},
          "execution_count": 37
        }
      ]
    },
    {
      "cell_type": "code",
      "source": [
        "instagram = instagram.dropna()\n",
        "instagram"
      ],
      "metadata": {
        "colab": {
          "base_uri": "https://localhost:8080/",
          "height": 423
        },
        "id": "0YKvnQG9AL6R",
        "outputId": "bfbc2137-b300-4ad6-897a-4d5f6bd01ac8"
      },
      "execution_count": null,
      "outputs": [
        {
          "output_type": "execute_result",
          "data": {
            "text/plain": [
              "                      source  days_to_complete\n",
              "3      instagram_new_adverts               7.0\n",
              "6      instagram_new_adverts              13.0\n",
              "10     instagram_new_adverts               7.0\n",
              "24     instagram_new_adverts              16.0\n",
              "33     instagram_new_adverts              15.0\n",
              "...                      ...               ...\n",
              "13531  instagram_new_adverts              10.0\n",
              "13533  instagram_new_adverts              18.0\n",
              "13548  instagram_new_adverts               6.0\n",
              "13566  instagram_new_adverts              12.0\n",
              "13571  instagram_new_adverts               8.0\n",
              "\n",
              "[1466 rows x 2 columns]"
            ],
            "text/html": [
              "\n",
              "  <div id=\"df-75f26867-b1d2-44ed-9297-5226dff490f6\">\n",
              "    <div class=\"colab-df-container\">\n",
              "      <div>\n",
              "<style scoped>\n",
              "    .dataframe tbody tr th:only-of-type {\n",
              "        vertical-align: middle;\n",
              "    }\n",
              "\n",
              "    .dataframe tbody tr th {\n",
              "        vertical-align: top;\n",
              "    }\n",
              "\n",
              "    .dataframe thead th {\n",
              "        text-align: right;\n",
              "    }\n",
              "</style>\n",
              "<table border=\"1\" class=\"dataframe\">\n",
              "  <thead>\n",
              "    <tr style=\"text-align: right;\">\n",
              "      <th></th>\n",
              "      <th>source</th>\n",
              "      <th>days_to_complete</th>\n",
              "    </tr>\n",
              "  </thead>\n",
              "  <tbody>\n",
              "    <tr>\n",
              "      <th>3</th>\n",
              "      <td>instagram_new_adverts</td>\n",
              "      <td>7.0</td>\n",
              "    </tr>\n",
              "    <tr>\n",
              "      <th>6</th>\n",
              "      <td>instagram_new_adverts</td>\n",
              "      <td>13.0</td>\n",
              "    </tr>\n",
              "    <tr>\n",
              "      <th>10</th>\n",
              "      <td>instagram_new_adverts</td>\n",
              "      <td>7.0</td>\n",
              "    </tr>\n",
              "    <tr>\n",
              "      <th>24</th>\n",
              "      <td>instagram_new_adverts</td>\n",
              "      <td>16.0</td>\n",
              "    </tr>\n",
              "    <tr>\n",
              "      <th>33</th>\n",
              "      <td>instagram_new_adverts</td>\n",
              "      <td>15.0</td>\n",
              "    </tr>\n",
              "    <tr>\n",
              "      <th>...</th>\n",
              "      <td>...</td>\n",
              "      <td>...</td>\n",
              "    </tr>\n",
              "    <tr>\n",
              "      <th>13531</th>\n",
              "      <td>instagram_new_adverts</td>\n",
              "      <td>10.0</td>\n",
              "    </tr>\n",
              "    <tr>\n",
              "      <th>13533</th>\n",
              "      <td>instagram_new_adverts</td>\n",
              "      <td>18.0</td>\n",
              "    </tr>\n",
              "    <tr>\n",
              "      <th>13548</th>\n",
              "      <td>instagram_new_adverts</td>\n",
              "      <td>6.0</td>\n",
              "    </tr>\n",
              "    <tr>\n",
              "      <th>13566</th>\n",
              "      <td>instagram_new_adverts</td>\n",
              "      <td>12.0</td>\n",
              "    </tr>\n",
              "    <tr>\n",
              "      <th>13571</th>\n",
              "      <td>instagram_new_adverts</td>\n",
              "      <td>8.0</td>\n",
              "    </tr>\n",
              "  </tbody>\n",
              "</table>\n",
              "<p>1466 rows × 2 columns</p>\n",
              "</div>\n",
              "      <button class=\"colab-df-convert\" onclick=\"convertToInteractive('df-75f26867-b1d2-44ed-9297-5226dff490f6')\"\n",
              "              title=\"Convert this dataframe to an interactive table.\"\n",
              "              style=\"display:none;\">\n",
              "        \n",
              "  <svg xmlns=\"http://www.w3.org/2000/svg\" height=\"24px\"viewBox=\"0 0 24 24\"\n",
              "       width=\"24px\">\n",
              "    <path d=\"M0 0h24v24H0V0z\" fill=\"none\"/>\n",
              "    <path d=\"M18.56 5.44l.94 2.06.94-2.06 2.06-.94-2.06-.94-.94-2.06-.94 2.06-2.06.94zm-11 1L8.5 8.5l.94-2.06 2.06-.94-2.06-.94L8.5 2.5l-.94 2.06-2.06.94zm10 10l.94 2.06.94-2.06 2.06-.94-2.06-.94-.94-2.06-.94 2.06-2.06.94z\"/><path d=\"M17.41 7.96l-1.37-1.37c-.4-.4-.92-.59-1.43-.59-.52 0-1.04.2-1.43.59L10.3 9.45l-7.72 7.72c-.78.78-.78 2.05 0 2.83L4 21.41c.39.39.9.59 1.41.59.51 0 1.02-.2 1.41-.59l7.78-7.78 2.81-2.81c.8-.78.8-2.07 0-2.86zM5.41 20L4 18.59l7.72-7.72 1.47 1.35L5.41 20z\"/>\n",
              "  </svg>\n",
              "      </button>\n",
              "      \n",
              "  <style>\n",
              "    .colab-df-container {\n",
              "      display:flex;\n",
              "      flex-wrap:wrap;\n",
              "      gap: 12px;\n",
              "    }\n",
              "\n",
              "    .colab-df-convert {\n",
              "      background-color: #E8F0FE;\n",
              "      border: none;\n",
              "      border-radius: 50%;\n",
              "      cursor: pointer;\n",
              "      display: none;\n",
              "      fill: #1967D2;\n",
              "      height: 32px;\n",
              "      padding: 0 0 0 0;\n",
              "      width: 32px;\n",
              "    }\n",
              "\n",
              "    .colab-df-convert:hover {\n",
              "      background-color: #E2EBFA;\n",
              "      box-shadow: 0px 1px 2px rgba(60, 64, 67, 0.3), 0px 1px 3px 1px rgba(60, 64, 67, 0.15);\n",
              "      fill: #174EA6;\n",
              "    }\n",
              "\n",
              "    [theme=dark] .colab-df-convert {\n",
              "      background-color: #3B4455;\n",
              "      fill: #D2E3FC;\n",
              "    }\n",
              "\n",
              "    [theme=dark] .colab-df-convert:hover {\n",
              "      background-color: #434B5C;\n",
              "      box-shadow: 0px 1px 3px 1px rgba(0, 0, 0, 0.15);\n",
              "      filter: drop-shadow(0px 1px 2px rgba(0, 0, 0, 0.3));\n",
              "      fill: #FFFFFF;\n",
              "    }\n",
              "  </style>\n",
              "\n",
              "      <script>\n",
              "        const buttonEl =\n",
              "          document.querySelector('#df-75f26867-b1d2-44ed-9297-5226dff490f6 button.colab-df-convert');\n",
              "        buttonEl.style.display =\n",
              "          google.colab.kernel.accessAllowed ? 'block' : 'none';\n",
              "\n",
              "        async function convertToInteractive(key) {\n",
              "          const element = document.querySelector('#df-75f26867-b1d2-44ed-9297-5226dff490f6');\n",
              "          const dataTable =\n",
              "            await google.colab.kernel.invokeFunction('convertToInteractive',\n",
              "                                                     [key], {});\n",
              "          if (!dataTable) return;\n",
              "\n",
              "          const docLinkHtml = 'Like what you see? Visit the ' +\n",
              "            '<a target=\"_blank\" href=https://colab.research.google.com/notebooks/data_table.ipynb>data table notebook</a>'\n",
              "            + ' to learn more about interactive tables.';\n",
              "          element.innerHTML = '';\n",
              "          dataTable['output_type'] = 'display_data';\n",
              "          await google.colab.output.renderOutput(dataTable, element);\n",
              "          const docLink = document.createElement('div');\n",
              "          docLink.innerHTML = docLinkHtml;\n",
              "          element.appendChild(docLink);\n",
              "        }\n",
              "      </script>\n",
              "    </div>\n",
              "  </div>\n",
              "  "
            ]
          },
          "metadata": {},
          "execution_count": 38
        }
      ]
    },
    {
      "cell_type": "markdown",
      "source": [
        "Воспользуемся ttest_ind с уровнем статистической значимости alpa = 0.05"
      ],
      "metadata": {
        "id": "112kJjqhD1mL"
      }
    },
    {
      "cell_type": "code",
      "source": [
        "alpha = 0.05\n",
        "\n",
        "results = st.ttest_ind(facebook['days_to_complete'], instagram['days_to_complete'], equal_var = False)\n",
        "print('p-значение: ', results.pvalue)\n",
        "\n",
        "if (results.pvalue < alpha):\n",
        "    print(\"Отвергаем нулевую гипотезу, различие между пользователями есть\")\n",
        "else:\n",
        "    print(\"Не получилось отвергнуть нулевую гипотезу, различия между пользователями нет\")"
      ],
      "metadata": {
        "colab": {
          "base_uri": "https://localhost:8080/"
        },
        "id": "yF06kwAmAL2r",
        "outputId": "de44af36-c9d2-407d-b240-b07e2ef37847"
      },
      "execution_count": null,
      "outputs": [
        {
          "output_type": "stream",
          "name": "stdout",
          "text": [
            "p-значение:  0.7138947936389378\n",
            "Не получилось отвергнуть нулевую гипотезу, различия между пользователями нет\n"
          ]
        }
      ]
    },
    {
      "cell_type": "markdown",
      "source": [
        "## Часть 5. Ответ на вопрос заказчика. Подробное описание ранжирования каналов с аргументацией"
      ],
      "metadata": {
        "id": "fn5QqSFJF-hc"
      }
    },
    {
      "cell_type": "markdown",
      "source": [
        "В результате исследования были проранжированы каналы привлечения пользователей. Для этого использовалось несколько показателей, таких как среднее кол-во зданий на пользователя и процент завершаемости уровня.\n",
        "\n",
        "Выяснилось, что эти метрики практически не отличаются в зависимости от каналов. Рассчитав САС(Стоимость привлечение клиента) по каналом обнаружилось, что реклама на YouTube является наиболее экономичным источником привлечения, в то время как Facebook является самым затратным источником на одного игрока. Стоимость привлечения одного игрока через Facebook почти в два раза выше, чем через YouTube (0,4 у.е. против 0,79 у.е.), при этом оба этих канала привлекли приблизительно одинаковое количество игроков за весь анализируемый период (2686 и 2726 человек соответственно).\n",
        "\n",
        "Так же весьма эффективным выглядит канал Яндекс.Директ (показатель САС 0.46), который привел больше всего пользователей игры (4817)\n",
        "\n",
        "Для отдела маркетинга рекомендуется пересмотреть расходы на каналы привлечения пользователей в пользу более эффектвных (YouTube и Яндекс.Директ)"
      ],
      "metadata": {
        "id": "pDq3dZQzGHsb"
      }
    },
    {
      "cell_type": "markdown",
      "source": [
        "## Часть 6. Общий вывод"
      ],
      "metadata": {
        "id": "OOPpQL2vHmso"
      }
    },
    {
      "cell_type": "markdown",
      "source": [
        "1. Произведена загрузка и обработка данных:\n",
        "данные проверены на ошибки записи\n",
        "сконвертирован формат даты;\n",
        "удален 1 дубликат строк.\n",
        "2. Произведен исследовательский анализ данных, в ходе которого каналы привлечения пользователей сравнивались по \"эффективности\":\n",
        "\n",
        "Самый популярный источник, покоторому пришли пользователи - Яндекс.Директ(35%). Затем идет Инстаграм(примерно 25%), а доля пользователей, пришедших из Фейсбука и Ютуба приблизительно равна 20 %.\n",
        "\n",
        "Выяснилось, что количество зданий на игрока в зависимости от канала привлечения примерно одинаково.\n",
        "\n",
        "Среднее количество дней, проведенных в игре, в зависимости от источника\n",
        "практически идентично, и равно 10 дням.\n",
        "\n",
        "Доли прошедших уровень в зависимости от источника привлечения находятся в районе 42-44% во всех источниках.\n",
        "\n",
        "Самым экономичным источником привлечения является реклама на YouTube, в то время как самым затратным источником на одного игрока является Facebook. Стоимость привлечения одного игрока через Facebook почти вдвое выше, чем через YouTube (0.4 у.е. против 0.79 у.е.). В то же время оба этих канала привлекли примерно одинаковое количество игроков за анализируемый период (2686 и 2726 человек соответственно).\n",
        "\n",
        "Яндекс является следующим по стоимости дешевым источником, причем через него было привлечено максимальное количество игроков (4817 пользователей при стоимости привлечения 0.46 у.е.).\n",
        "\n",
        "Инстаграм является дорогим источником (0.65 у.е. на игрока), однако через него пришло четверть всех игроков.\n",
        "\n",
        "Стоимость привлечения игрока через Facebook значительно выше, и этот источник кажется наименее привлекательным.\n",
        "\n",
        "4. Проверка статистических гипотез\n",
        "\n",
        "1 гипотеза:\n",
        "Среднее время на завершение уровня через PVE равно среднему времени на завершение уровня через PVP\n",
        "\n",
        "Для выбранного критерия значимости на уровне 5% проведенный тест позволил отбросить нулевую гипотезу и сделать вывод о том, что среднее время на завершение уровня через проект (PVE) не равно среднему времени на завершение уровня через победу над другим игроком (PVP)\n",
        "\n",
        "2 гипотеза:\n",
        "\n",
        "Различия во времени прохождения уровня пользователями в зависимости от рекламного источника нет. (Сравниваем два источника, Инстаграм и Фейсбук)\n",
        "\n",
        "Для выбранного критерия значимости на уровне 5% проведенный тест не позволил отвергнуть нулевую гипотезу, различий во времени прохождения уровня между пользователями этих каналов нет.\n",
        "\n",
        "5. Для отдела маркетинга рекомендуется пересмотреть расходы на каналы привлечения пользователей в пользу более эффектвных (YouTube и Яндекс.Директ)"
      ],
      "metadata": {
        "id": "Qc8kLE9xHoK5"
      }
    }
  ],
  "metadata": {
    "kernelspec": {
      "display_name": "Python 3 (ipykernel)",
      "language": "python",
      "name": "python3"
    },
    "language_info": {
      "codemirror_mode": {
        "name": "ipython",
        "version": 3
      },
      "file_extension": ".py",
      "mimetype": "text/x-python",
      "name": "python",
      "nbconvert_exporter": "python",
      "pygments_lexer": "ipython3",
      "version": "3.9.5"
    },
    "toc": {
      "base_numbering": 1,
      "nav_menu": {
        "height": "112.997px",
        "width": "160px"
      },
      "number_sections": true,
      "sideBar": true,
      "skip_h1_title": true,
      "title_cell": "Содержание",
      "title_sidebar": "Contents",
      "toc_cell": true,
      "toc_position": {},
      "toc_section_display": true,
      "toc_window_display": true
    },
    "colab": {
      "provenance": []
    }
  },
  "nbformat": 4,
  "nbformat_minor": 0
}